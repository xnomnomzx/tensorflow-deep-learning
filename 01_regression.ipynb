{
 "cells": [
  {
   "cell_type": "code",
   "execution_count": 1,
   "metadata": {},
   "outputs": [
    {
     "name": "stderr",
     "output_type": "stream",
     "text": [
      "2024-06-03 19:21:03.313628: I tensorflow/core/util/port.cc:113] oneDNN custom operations are on. You may see slightly different numerical results due to floating-point round-off errors from different computation orders. To turn them off, set the environment variable `TF_ENABLE_ONEDNN_OPTS=0`.\n",
      "2024-06-03 19:21:03.595168: E external/local_xla/xla/stream_executor/cuda/cuda_dnn.cc:9261] Unable to register cuDNN factory: Attempting to register factory for plugin cuDNN when one has already been registered\n",
      "2024-06-03 19:21:03.595218: E external/local_xla/xla/stream_executor/cuda/cuda_fft.cc:607] Unable to register cuFFT factory: Attempting to register factory for plugin cuFFT when one has already been registered\n",
      "2024-06-03 19:21:03.634831: E external/local_xla/xla/stream_executor/cuda/cuda_blas.cc:1515] Unable to register cuBLAS factory: Attempting to register factory for plugin cuBLAS when one has already been registered\n",
      "2024-06-03 19:21:03.733668: I tensorflow/core/platform/cpu_feature_guard.cc:182] This TensorFlow binary is optimized to use available CPU instructions in performance-critical operations.\n",
      "To enable the following instructions: AVX2 AVX512F AVX512_VNNI AVX512_BF16 FMA, in other operations, rebuild TensorFlow with the appropriate compiler flags.\n",
      "2024-06-03 19:21:05.470946: W tensorflow/compiler/tf2tensorrt/utils/py_utils.cc:38] TF-TRT Warning: Could not find TensorRT\n"
     ]
    },
    {
     "name": "stdout",
     "output_type": "stream",
     "text": [
      "2.15.0\n"
     ]
    }
   ],
   "source": [
    "import tensorflow as tf\n",
    "print(tf.__version__)"
   ]
  },
  {
   "cell_type": "code",
   "execution_count": 2,
   "metadata": {},
   "outputs": [
    {
     "data": {
      "text/plain": [
       "<matplotlib.collections.PathCollection at 0x7f7a0f4a3f40>"
      ]
     },
     "execution_count": 2,
     "metadata": {},
     "output_type": "execute_result"
    },
    {
     "data": {
      "image/png": "[encoded data removed]",
      "text/plain": [
       "<Figure size 640x480 with 1 Axes>"
      ]
     },
     "metadata": {},
     "output_type": "display_data"
    }
   ],
   "source": [
    "import numpy as np\n",
    "import matplotlib.pyplot as plt\n",
    "\n",
    "x = np.array([-7.0, -4.0, -1.0, 2.0, 5.0, 8.0, 11.0, 14.0])\n",
    "\n",
    "y = np.array([3.0, 6.0, 9.0, 12.0, 15.0, 18.0, 21.0, 24.0])\n",
    "\n",
    "plt.scatter(x,y)"
   ]
  },
  {
   "cell_type": "code",
   "execution_count": 3,
   "metadata": {},
   "outputs": [
    {
     "data": {
      "text/plain": [
       "array([ True,  True,  True,  True,  True,  True,  True,  True])"
      ]
     },
     "execution_count": 3,
     "metadata": {},
     "output_type": "execute_result"
    }
   ],
   "source": [
    "y == x + 10"
   ]
  },
  {
   "cell_type": "markdown",
   "metadata": {},
   "source": [
    "## Input and output shapes"
   ]
  },
  {
   "cell_type": "code",
   "execution_count": 4,
   "metadata": {},
   "outputs": [
    {
     "name": "stderr",
     "output_type": "stream",
     "text": [
      "2024-06-03 19:21:14.890839: I external/local_xla/xla/stream_executor/cuda/cuda_executor.cc:887] could not open file to read NUMA node: /sys/bus/pci/devices/0000:01:00.0/numa_node\n",
      "Your kernel may have been built without NUMA support.\n",
      "2024-06-03 19:21:15.019982: I external/local_xla/xla/stream_executor/cuda/cuda_executor.cc:887] could not open file to read NUMA node: /sys/bus/pci/devices/0000:01:00.0/numa_node\n",
      "Your kernel may have been built without NUMA support.\n",
      "2024-06-03 19:21:15.020032: I external/local_xla/xla/stream_executor/cuda/cuda_executor.cc:887] could not open file to read NUMA node: /sys/bus/pci/devices/0000:01:00.0/numa_node\n",
      "Your kernel may have been built without NUMA support.\n",
      "2024-06-03 19:21:15.023513: I external/local_xla/xla/stream_executor/cuda/cuda_executor.cc:887] could not open file to read NUMA node: /sys/bus/pci/devices/0000:01:00.0/numa_node\n",
      "Your kernel may have been built without NUMA support.\n",
      "2024-06-03 19:21:15.023549: I external/local_xla/xla/stream_executor/cuda/cuda_executor.cc:887] could not open file to read NUMA node: /sys/bus/pci/devices/0000:01:00.0/numa_node\n",
      "Your kernel may have been built without NUMA support.\n",
      "2024-06-03 19:21:15.023565: I external/local_xla/xla/stream_executor/cuda/cuda_executor.cc:887] could not open file to read NUMA node: /sys/bus/pci/devices/0000:01:00.0/numa_node\n",
      "Your kernel may have been built without NUMA support.\n",
      "2024-06-03 19:21:15.211758: I external/local_xla/xla/stream_executor/cuda/cuda_executor.cc:887] could not open file to read NUMA node: /sys/bus/pci/devices/0000:01:00.0/numa_node\n",
      "Your kernel may have been built without NUMA support.\n",
      "2024-06-03 19:21:15.211814: I external/local_xla/xla/stream_executor/cuda/cuda_executor.cc:887] could not open file to read NUMA node: /sys/bus/pci/devices/0000:01:00.0/numa_node\n",
      "Your kernel may have been built without NUMA support.\n",
      "2024-06-03 19:21:15.211821: I tensorflow/core/common_runtime/gpu/gpu_device.cc:2022] Could not identify NUMA node of platform GPU id 0, defaulting to 0.  Your kernel may not have been built with NUMA support.\n",
      "2024-06-03 19:21:15.211855: I external/local_xla/xla/stream_executor/cuda/cuda_executor.cc:887] could not open file to read NUMA node: /sys/bus/pci/devices/0000:01:00.0/numa_node\n",
      "Your kernel may have been built without NUMA support.\n",
      "2024-06-03 19:21:15.211878: I tensorflow/core/common_runtime/gpu/gpu_device.cc:1929] Created device /job:localhost/replica:0/task:0/device:GPU:0 with 9511 MB memory:  -> device: 0, name: NVIDIA GeForce RTX 4080 Laptop GPU, pci bus id: 0000:01:00.0, compute capability: 8.9\n"
     ]
    },
    {
     "data": {
      "text/plain": [
       "(<tf.Tensor: shape=(3,), dtype=string, numpy=array([b'bedroom', b'bathroom', b'garage'], dtype=object)>,\n",
       " <tf.Tensor: shape=(1,), dtype=int32, numpy=array([939700], dtype=int32)>)"
      ]
     },
     "execution_count": 4,
     "metadata": {},
     "output_type": "execute_result"
    }
   ],
   "source": [
    "house_info = tf.constant(['bedroom', 'bathroom', 'garage'])\n",
    "house_price = tf.constant([939700])\n",
    "house_info, house_price"
   ]
  },
  {
   "cell_type": "code",
   "execution_count": 5,
   "metadata": {},
   "outputs": [
    {
     "data": {
      "text/plain": [
       "((), ())"
      ]
     },
     "execution_count": 5,
     "metadata": {},
     "output_type": "execute_result"
    }
   ],
   "source": [
    "input_shape = x[0].shape\n",
    "output_shape = y[0].shape\n",
    "input_shape, output_shape"
   ]
  },
  {
   "cell_type": "code",
   "execution_count": 6,
   "metadata": {},
   "outputs": [
    {
     "data": {
      "text/plain": [
       "(<tf.Tensor: shape=(8,), dtype=float64, numpy=array([-7., -4., -1.,  2.,  5.,  8., 11., 14.])>,\n",
       " <tf.Tensor: shape=(8,), dtype=float64, numpy=array([ 3.,  6.,  9., 12., 15., 18., 21., 24.])>)"
      ]
     },
     "execution_count": 6,
     "metadata": {},
     "output_type": "execute_result"
    }
   ],
   "source": [
    "X = tf.constant(x)\n",
    "y = tf.constant(y)\n",
    "X,y"
   ]
  },
  {
   "cell_type": "code",
   "execution_count": 7,
   "metadata": {},
   "outputs": [
    {
     "data": {
      "text/plain": [
       "(TensorShape([]), TensorShape([]))"
      ]
     },
     "execution_count": 7,
     "metadata": {},
     "output_type": "execute_result"
    }
   ],
   "source": [
    "input_shape = X[0].shape\n",
    "output_shape = y[0].shape\n",
    "input_shape, output_shape"
   ]
  },
  {
   "cell_type": "code",
   "execution_count": 8,
   "metadata": {},
   "outputs": [
    {
     "name": "stdout",
     "output_type": "stream",
     "text": [
      "Epoch 1/25\n",
      "1/1 [==============================] - 1s 1s/step - loss: 21.1926 - mae: 21.1926\n",
      "Epoch 2/25\n",
      "1/1 [==============================] - 0s 9ms/step - loss: 20.7995 - mae: 20.7995\n"
     ]
    },
    {
     "name": "stderr",
     "output_type": "stream",
     "text": [
      "2024-06-03 19:21:17.770096: W external/local_xla/xla/stream_executor/gpu/asm_compiler.cc:225] Falling back to the CUDA driver for PTX compilation; ptxas does not support CC 8.9\n",
      "2024-06-03 19:21:17.770134: W external/local_xla/xla/stream_executor/gpu/asm_compiler.cc:228] Used ptxas at ptxas\n",
      "2024-06-03 19:21:17.770177: W tensorflow/compiler/mlir/tools/kernel_gen/transforms/gpu_kernel_to_blob_pass.cc:191] Failed to compile generated PTX with ptxas. Falling back to compilation by driver.\n",
      "2024-06-03 19:21:17.875023: I external/local_xla/xla/service/service.cc:168] XLA service 0x7f7905220be0 initialized for platform CUDA (this does not guarantee that XLA will be used). Devices:\n",
      "2024-06-03 19:21:17.875071: I external/local_xla/xla/service/service.cc:176]   StreamExecutor device (0): NVIDIA GeForce RTX 4080 Laptop GPU, Compute Capability 8.9\n",
      "2024-06-03 19:21:17.899961: I external/local_xla/xla/stream_executor/cuda/cuda_dnn.cc:454] Loaded cuDNN version 8904\n",
      "2024-06-03 19:21:17.913546: W external/local_xla/xla/service/gpu/nvptx_compiler.cc:408] Couldn't read CUDA driver version.\n",
      "WARNING: All log messages before absl::InitializeLog() is called are written to STDERR\n",
      "I0000 00:00:1717460477.922892     129 device_compiler.h:186] Compiled cluster using XLA!  This line is logged at most once for the lifetime of the process.\n"
     ]
    },
    {
     "name": "stdout",
     "output_type": "stream",
     "text": [
      "Epoch 3/25\n",
      "1/1 [==============================] - 0s 8ms/step - loss: 20.4380 - mae: 20.4380\n",
      "Epoch 4/25\n",
      "1/1 [==============================] - 0s 7ms/step - loss: 20.1568 - mae: 20.1568\n",
      "Epoch 5/25\n",
      "1/1 [==============================] - 0s 7ms/step - loss: 19.8755 - mae: 19.8755\n",
      "Epoch 6/25\n",
      "1/1 [==============================] - 0s 7ms/step - loss: 19.5943 - mae: 19.5943\n",
      "Epoch 7/25\n",
      "1/1 [==============================] - 0s 7ms/step - loss: 19.3130 - mae: 19.3130\n",
      "Epoch 8/25\n",
      "1/1 [==============================] - 0s 7ms/step - loss: 19.0318 - mae: 19.0318\n",
      "Epoch 9/25\n",
      "1/1 [==============================] - 0s 9ms/step - loss: 18.7505 - mae: 18.7505\n",
      "Epoch 10/25\n",
      "1/1 [==============================] - 0s 8ms/step - loss: 18.4693 - mae: 18.4693\n",
      "Epoch 11/25\n",
      "1/1 [==============================] - 0s 7ms/step - loss: 18.1880 - mae: 18.1880\n",
      "Epoch 12/25\n",
      "1/1 [==============================] - 0s 10ms/step - loss: 17.9068 - mae: 17.9068\n",
      "Epoch 13/25\n",
      "1/1 [==============================] - 0s 8ms/step - loss: 17.6255 - mae: 17.6255\n",
      "Epoch 14/25\n",
      "1/1 [==============================] - 0s 7ms/step - loss: 17.3443 - mae: 17.3443\n",
      "Epoch 15/25\n",
      "1/1 [==============================] - 0s 7ms/step - loss: 17.0630 - mae: 17.0630\n",
      "Epoch 16/25\n",
      "1/1 [==============================] - 0s 7ms/step - loss: 16.7818 - mae: 16.7818\n",
      "Epoch 17/25\n",
      "1/1 [==============================] - 0s 7ms/step - loss: 16.5005 - mae: 16.5005\n",
      "Epoch 18/25\n",
      "1/1 [==============================] - 0s 8ms/step - loss: 16.2193 - mae: 16.2193\n",
      "Epoch 19/25\n",
      "1/1 [==============================] - 0s 8ms/step - loss: 15.9380 - mae: 15.9380\n",
      "Epoch 20/25\n",
      "1/1 [==============================] - 0s 8ms/step - loss: 15.6568 - mae: 15.6568\n",
      "Epoch 21/25\n",
      "1/1 [==============================] - 0s 10ms/step - loss: 15.3755 - mae: 15.3755\n",
      "Epoch 22/25\n",
      "1/1 [==============================] - 0s 12ms/step - loss: 15.0943 - mae: 15.0943\n",
      "Epoch 23/25\n",
      "1/1 [==============================] - 0s 11ms/step - loss: 14.8130 - mae: 14.8130\n",
      "Epoch 24/25\n",
      "1/1 [==============================] - 0s 8ms/step - loss: 14.6041 - mae: 14.6041\n",
      "Epoch 25/25\n",
      "1/1 [==============================] - 0s 9ms/step - loss: 14.4716 - mae: 14.4716\n"
     ]
    },
    {
     "data": {
      "text/plain": [
       "<keras.src.callbacks.History at 0x7f7a0b166a70>"
      ]
     },
     "execution_count": 8,
     "metadata": {},
     "output_type": "execute_result"
    }
   ],
   "source": [
    "tf.random.set_seed(42)\n",
    "model = tf.keras.Sequential()\n",
    "model.add(tf.keras.layers.Dense(1))\n",
    "\n",
    "model.compile(loss=tf.keras.losses.mae,\n",
    "              optimizer=tf.keras.optimizers.SGD(),\n",
    "              metrics=['mae'])\n",
    "\n",
    "model.fit(tf.expand_dims(X, axis=-1), y, epochs=25)"
   ]
  },
  {
   "cell_type": "code",
   "execution_count": 9,
   "metadata": {},
   "outputs": [
    {
     "name": "stdout",
     "output_type": "stream",
     "text": [
      "1/1 [==============================] - 0s 71ms/step\n"
     ]
    },
    {
     "data": {
      "text/plain": [
       "array([[-4.7988935]], dtype=float32)"
      ]
     },
     "execution_count": 9,
     "metadata": {},
     "output_type": "execute_result"
    }
   ],
   "source": [
    "y_pred = model.predict([17.0])\n",
    "y_pred"
   ]
  },
  {
   "cell_type": "code",
   "execution_count": 10,
   "metadata": {},
   "outputs": [
    {
     "name": "stdout",
     "output_type": "stream",
     "text": [
      "Epoch 1/100\n",
      "1/1 [==============================] - 0s 197ms/step - loss: 20.6712 - mae: 20.6712\n",
      "Epoch 2/100\n",
      "1/1 [==============================] - 0s 8ms/step - loss: 20.3319 - mae: 20.3319\n",
      "Epoch 3/100\n",
      "1/1 [==============================] - 0s 8ms/step - loss: 20.0507 - mae: 20.0507\n",
      "Epoch 4/100\n",
      "1/1 [==============================] - 0s 7ms/step - loss: 19.7694 - mae: 19.7694\n",
      "Epoch 5/100\n",
      "1/1 [==============================] - 0s 7ms/step - loss: 19.4882 - mae: 19.4882\n",
      "Epoch 6/100\n",
      "1/1 [==============================] - 0s 7ms/step - loss: 19.2069 - mae: 19.2069\n",
      "Epoch 7/100\n",
      "1/1 [==============================] - 0s 7ms/step - loss: 18.9257 - mae: 18.9257\n",
      "Epoch 8/100\n",
      "1/1 [==============================] - 0s 9ms/step - loss: 18.6444 - mae: 18.6444\n",
      "Epoch 9/100\n",
      "1/1 [==============================] - 0s 10ms/step - loss: 18.3632 - mae: 18.3632\n",
      "Epoch 10/100\n",
      "1/1 [==============================] - 0s 10ms/step - loss: 18.0819 - mae: 18.0819\n",
      "Epoch 11/100\n",
      "1/1 [==============================] - 0s 9ms/step - loss: 17.8007 - mae: 17.8007\n",
      "Epoch 12/100\n",
      "1/1 [==============================] - 0s 6ms/step - loss: 17.5194 - mae: 17.5194\n",
      "Epoch 13/100\n",
      "1/1 [==============================] - 0s 8ms/step - loss: 17.2382 - mae: 17.2382\n",
      "Epoch 14/100\n",
      "1/1 [==============================] - 0s 7ms/step - loss: 16.9569 - mae: 16.9569\n",
      "Epoch 15/100\n",
      "1/1 [==============================] - 0s 6ms/step - loss: 16.6757 - mae: 16.6757\n",
      "Epoch 16/100\n",
      "1/1 [==============================] - 0s 7ms/step - loss: 16.3944 - mae: 16.3944\n",
      "Epoch 17/100\n",
      "1/1 [==============================] - 0s 8ms/step - loss: 16.1132 - mae: 16.1132\n",
      "Epoch 18/100\n",
      "1/1 [==============================] - 0s 7ms/step - loss: 15.8319 - mae: 15.8319\n",
      "Epoch 19/100\n",
      "1/1 [==============================] - 0s 7ms/step - loss: 15.5507 - mae: 15.5507\n",
      "Epoch 20/100\n",
      "1/1 [==============================] - 0s 7ms/step - loss: 15.2694 - mae: 15.2694\n",
      "Epoch 21/100\n",
      "1/1 [==============================] - 0s 7ms/step - loss: 14.9882 - mae: 14.9882\n",
      "Epoch 22/100\n",
      "1/1 [==============================] - 0s 7ms/step - loss: 14.7271 - mae: 14.7271\n",
      "Epoch 23/100\n",
      "1/1 [==============================] - 0s 8ms/step - loss: 14.5946 - mae: 14.5946\n",
      "Epoch 24/100\n",
      "1/1 [==============================] - 0s 7ms/step - loss: 14.4621 - mae: 14.4621\n",
      "Epoch 25/100\n",
      "1/1 [==============================] - 0s 7ms/step - loss: 14.3296 - mae: 14.3296\n",
      "Epoch 26/100\n",
      "1/1 [==============================] - 0s 7ms/step - loss: 14.1971 - mae: 14.1971\n",
      "Epoch 27/100\n",
      "1/1 [==============================] - 0s 7ms/step - loss: 14.0646 - mae: 14.0646\n",
      "Epoch 28/100\n",
      "1/1 [==============================] - 0s 8ms/step - loss: 13.9321 - mae: 13.9321\n",
      "Epoch 29/100\n",
      "1/1 [==============================] - 0s 8ms/step - loss: 13.7996 - mae: 13.7996\n",
      "Epoch 30/100\n",
      "1/1 [==============================] - 0s 7ms/step - loss: 13.6671 - mae: 13.6671\n",
      "Epoch 31/100\n",
      "1/1 [==============================] - 0s 7ms/step - loss: 13.5346 - mae: 13.5346\n",
      "Epoch 32/100\n",
      "1/1 [==============================] - 0s 8ms/step - loss: 13.4021 - mae: 13.4021\n",
      "Epoch 33/100\n",
      "1/1 [==============================] - 0s 7ms/step - loss: 13.2696 - mae: 13.2696\n",
      "Epoch 34/100\n",
      "1/1 [==============================] - 0s 7ms/step - loss: 13.1371 - mae: 13.1371\n",
      "Epoch 35/100\n",
      "1/1 [==============================] - 0s 7ms/step - loss: 13.0046 - mae: 13.0046\n",
      "Epoch 36/100\n",
      "1/1 [==============================] - 0s 8ms/step - loss: 12.8721 - mae: 12.8721\n",
      "Epoch 37/100\n",
      "1/1 [==============================] - 0s 6ms/step - loss: 12.7396 - mae: 12.7396\n",
      "Epoch 38/100\n",
      "1/1 [==============================] - 0s 7ms/step - loss: 12.6071 - mae: 12.6071\n",
      "Epoch 39/100\n",
      "1/1 [==============================] - 0s 11ms/step - loss: 12.4746 - mae: 12.4746\n",
      "Epoch 40/100\n",
      "1/1 [==============================] - 0s 12ms/step - loss: 12.3421 - mae: 12.3421\n",
      "Epoch 41/100\n",
      "1/1 [==============================] - 0s 10ms/step - loss: 12.2096 - mae: 12.2096\n",
      "Epoch 42/100\n",
      "1/1 [==============================] - 0s 7ms/step - loss: 12.0771 - mae: 12.0771\n",
      "Epoch 43/100\n",
      "1/1 [==============================] - 0s 7ms/step - loss: 11.9446 - mae: 11.9446\n",
      "Epoch 44/100\n",
      "1/1 [==============================] - 0s 8ms/step - loss: 11.8121 - mae: 11.8121\n",
      "Epoch 45/100\n",
      "1/1 [==============================] - 0s 7ms/step - loss: 11.6796 - mae: 11.6796\n",
      "Epoch 46/100\n",
      "1/1 [==============================] - 0s 7ms/step - loss: 11.5471 - mae: 11.5471\n",
      "Epoch 47/100\n",
      "1/1 [==============================] - 0s 9ms/step - loss: 11.4146 - mae: 11.4146\n",
      "Epoch 48/100\n",
      "1/1 [==============================] - 0s 7ms/step - loss: 11.2821 - mae: 11.2821\n",
      "Epoch 49/100\n",
      "1/1 [==============================] - 0s 7ms/step - loss: 11.1496 - mae: 11.1496\n",
      "Epoch 50/100\n",
      "1/1 [==============================] - 0s 8ms/step - loss: 11.0171 - mae: 11.0171\n",
      "Epoch 51/100\n",
      "1/1 [==============================] - 0s 7ms/step - loss: 10.8846 - mae: 10.8846\n",
      "Epoch 52/100\n",
      "1/1 [==============================] - 0s 7ms/step - loss: 10.7521 - mae: 10.7521\n",
      "Epoch 53/100\n",
      "1/1 [==============================] - 0s 8ms/step - loss: 10.6196 - mae: 10.6196\n",
      "Epoch 54/100\n",
      "1/1 [==============================] - 0s 7ms/step - loss: 10.4871 - mae: 10.4871\n",
      "Epoch 55/100\n",
      "1/1 [==============================] - 0s 6ms/step - loss: 10.3546 - mae: 10.3546\n",
      "Epoch 56/100\n",
      "1/1 [==============================] - 0s 7ms/step - loss: 10.2221 - mae: 10.2221\n",
      "Epoch 57/100\n",
      "1/1 [==============================] - 0s 7ms/step - loss: 10.0896 - mae: 10.0896\n",
      "Epoch 58/100\n",
      "1/1 [==============================] - 0s 7ms/step - loss: 9.9571 - mae: 9.9571\n",
      "Epoch 59/100\n",
      "1/1 [==============================] - 0s 8ms/step - loss: 9.8246 - mae: 9.8246\n",
      "Epoch 60/100\n",
      "1/1 [==============================] - 0s 8ms/step - loss: 9.6921 - mae: 9.6921\n",
      "Epoch 61/100\n",
      "1/1 [==============================] - 0s 7ms/step - loss: 9.5596 - mae: 9.5596\n",
      "Epoch 62/100\n",
      "1/1 [==============================] - 0s 7ms/step - loss: 9.4271 - mae: 9.4271\n",
      "Epoch 63/100\n",
      "1/1 [==============================] - 0s 11ms/step - loss: 9.2946 - mae: 9.2946\n",
      "Epoch 64/100\n",
      "1/1 [==============================] - 0s 11ms/step - loss: 9.1621 - mae: 9.1621\n",
      "Epoch 65/100\n",
      "1/1 [==============================] - 0s 8ms/step - loss: 9.0296 - mae: 9.0296\n",
      "Epoch 66/100\n",
      "1/1 [==============================] - 0s 7ms/step - loss: 8.8971 - mae: 8.8971\n",
      "Epoch 67/100\n",
      "1/1 [==============================] - 0s 9ms/step - loss: 8.7646 - mae: 8.7646\n",
      "Epoch 68/100\n",
      "1/1 [==============================] - 0s 8ms/step - loss: 8.6321 - mae: 8.6321\n",
      "Epoch 69/100\n",
      "1/1 [==============================] - 0s 7ms/step - loss: 8.4996 - mae: 8.4996\n",
      "Epoch 70/100\n",
      "1/1 [==============================] - 0s 8ms/step - loss: 8.3671 - mae: 8.3671\n",
      "Epoch 71/100\n",
      "1/1 [==============================] - 0s 8ms/step - loss: 8.2346 - mae: 8.2346\n",
      "Epoch 72/100\n",
      "1/1 [==============================] - 0s 7ms/step - loss: 8.1021 - mae: 8.1021\n",
      "Epoch 73/100\n",
      "1/1 [==============================] - 0s 7ms/step - loss: 7.9696 - mae: 7.9696\n",
      "Epoch 74/100\n",
      "1/1 [==============================] - 0s 8ms/step - loss: 7.8371 - mae: 7.8371\n",
      "Epoch 75/100\n",
      "1/1 [==============================] - 0s 7ms/step - loss: 7.7046 - mae: 7.7046\n",
      "Epoch 76/100\n",
      "1/1 [==============================] - 0s 7ms/step - loss: 7.5721 - mae: 7.5721\n",
      "Epoch 77/100\n",
      "1/1 [==============================] - 0s 11ms/step - loss: 7.4396 - mae: 7.4396\n",
      "Epoch 78/100\n",
      "1/1 [==============================] - 0s 9ms/step - loss: 7.3071 - mae: 7.3071\n",
      "Epoch 79/100\n",
      "1/1 [==============================] - 0s 9ms/step - loss: 7.1746 - mae: 7.1746\n",
      "Epoch 80/100\n",
      "1/1 [==============================] - 0s 8ms/step - loss: 7.0421 - mae: 7.0421\n",
      "Epoch 81/100\n",
      "1/1 [==============================] - 0s 8ms/step - loss: 6.9413 - mae: 6.9413\n",
      "Epoch 82/100\n",
      "1/1 [==============================] - 0s 9ms/step - loss: 6.9356 - mae: 6.9356\n",
      "Epoch 83/100\n",
      "1/1 [==============================] - 0s 9ms/step - loss: 6.9300 - mae: 6.9300\n",
      "Epoch 84/100\n",
      "1/1 [==============================] - 0s 10ms/step - loss: 6.9244 - mae: 6.9244\n",
      "Epoch 85/100\n",
      "1/1 [==============================] - 0s 9ms/step - loss: 6.9188 - mae: 6.9188\n",
      "Epoch 86/100\n",
      "1/1 [==============================] - 0s 8ms/step - loss: 6.9131 - mae: 6.9131\n",
      "Epoch 87/100\n",
      "1/1 [==============================] - 0s 8ms/step - loss: 6.9075 - mae: 6.9075\n",
      "Epoch 88/100\n",
      "1/1 [==============================] - 0s 13ms/step - loss: 6.9019 - mae: 6.9019\n",
      "Epoch 89/100\n",
      "1/1 [==============================] - 0s 12ms/step - loss: 6.8963 - mae: 6.8963\n",
      "Epoch 90/100\n",
      "1/1 [==============================] - 0s 7ms/step - loss: 6.8906 - mae: 6.8906\n",
      "Epoch 91/100\n",
      "1/1 [==============================] - 0s 8ms/step - loss: 6.8850 - mae: 6.8850\n",
      "Epoch 92/100\n",
      "1/1 [==============================] - 0s 9ms/step - loss: 6.8794 - mae: 6.8794\n",
      "Epoch 93/100\n",
      "1/1 [==============================] - 0s 9ms/step - loss: 6.8738 - mae: 6.8738\n",
      "Epoch 94/100\n",
      "1/1 [==============================] - 0s 8ms/step - loss: 6.8681 - mae: 6.8681\n",
      "Epoch 95/100\n",
      "1/1 [==============================] - 0s 8ms/step - loss: 6.8625 - mae: 6.8625\n",
      "Epoch 96/100\n",
      "1/1 [==============================] - 0s 6ms/step - loss: 6.8569 - mae: 6.8569\n",
      "Epoch 97/100\n",
      "1/1 [==============================] - 0s 6ms/step - loss: 6.8513 - mae: 6.8513\n",
      "Epoch 98/100\n",
      "1/1 [==============================] - 0s 7ms/step - loss: 6.8456 - mae: 6.8456\n",
      "Epoch 99/100\n",
      "1/1 [==============================] - 0s 6ms/step - loss: 6.8400 - mae: 6.8400\n",
      "Epoch 100/100\n",
      "1/1 [==============================] - 0s 6ms/step - loss: 6.8344 - mae: 6.8344\n"
     ]
    },
    {
     "data": {
      "text/plain": [
       "<keras.src.callbacks.History at 0x7f79f017d0c0>"
      ]
     },
     "execution_count": 10,
     "metadata": {},
     "output_type": "execute_result"
    }
   ],
   "source": [
    "model = tf.keras.Sequential()\n",
    "model.add(tf.keras.layers.Dense(1))\n",
    "\n",
    "model.compile(loss=tf.keras.losses.mae,\n",
    "              optimizer=tf.keras.optimizers.SGD(),\n",
    "              metrics=['mae'])\n",
    "\n",
    "model.fit(tf.expand_dims(X, axis=-1), y, epochs=100)"
   ]
  },
  {
   "cell_type": "code",
   "execution_count": 11,
   "metadata": {},
   "outputs": [
    {
     "name": "stdout",
     "output_type": "stream",
     "text": [
      "1/1 [==============================] - 0s 37ms/step\n"
     ]
    },
    {
     "data": {
      "text/plain": [
       "array([[29.286848]], dtype=float32)"
      ]
     },
     "execution_count": 11,
     "metadata": {},
     "output_type": "execute_result"
    }
   ],
   "source": [
    "model.predict([17.0])"
   ]
  },
  {
   "cell_type": "code",
   "execution_count": 12,
   "metadata": {},
   "outputs": [
    {
     "name": "stdout",
     "output_type": "stream",
     "text": [
      "Epoch 1/100\n"
     ]
    },
    {
     "name": "stderr",
     "output_type": "stream",
     "text": [
      "2024-06-03 19:21:20.264705: W tensorflow/compiler/mlir/tools/kernel_gen/transforms/gpu_kernel_to_blob_pass.cc:191] Failed to compile generated PTX with ptxas. Falling back to compilation by driver.\n",
      "2024-06-03 19:21:20.298896: I tensorflow/compiler/mlir/tensorflow/utils/dump_mlir_util.cc:269] disabling MLIR crash reproducer, set env var `MLIR_CRASH_REPRODUCER_DIRECTORY` to enable.\n"
     ]
    },
    {
     "name": "stdout",
     "output_type": "stream",
     "text": [
      "1/1 [==============================] - 0s 497ms/step - loss: 13.2292 - mae: 13.2292\n",
      "Epoch 2/100\n",
      "1/1 [==============================] - 0s 8ms/step - loss: 13.1438 - mae: 13.1438\n",
      "Epoch 3/100\n",
      "1/1 [==============================] - 0s 7ms/step - loss: 13.0585 - mae: 13.0585\n",
      "Epoch 4/100\n",
      "1/1 [==============================] - 0s 8ms/step - loss: 12.9733 - mae: 12.9733\n",
      "Epoch 5/100\n",
      "1/1 [==============================] - 0s 8ms/step - loss: 12.8886 - mae: 12.8886\n",
      "Epoch 6/100\n",
      "1/1 [==============================] - 0s 8ms/step - loss: 12.8038 - mae: 12.8038\n",
      "Epoch 7/100\n",
      "1/1 [==============================] - 0s 7ms/step - loss: 12.7190 - mae: 12.7190\n",
      "Epoch 8/100\n",
      "1/1 [==============================] - 0s 8ms/step - loss: 12.6341 - mae: 12.6341\n",
      "Epoch 9/100\n",
      "1/1 [==============================] - 0s 7ms/step - loss: 12.5494 - mae: 12.5494\n",
      "Epoch 10/100\n",
      "1/1 [==============================] - 0s 7ms/step - loss: 12.4647 - mae: 12.4647\n",
      "Epoch 11/100\n",
      "1/1 [==============================] - 0s 8ms/step - loss: 12.3801 - mae: 12.3801\n",
      "Epoch 12/100\n",
      "1/1 [==============================] - 0s 8ms/step - loss: 12.2961 - mae: 12.2961\n",
      "Epoch 13/100\n",
      "1/1 [==============================] - 0s 7ms/step - loss: 12.2124 - mae: 12.2124\n",
      "Epoch 14/100\n",
      "1/1 [==============================] - 0s 8ms/step - loss: 12.1288 - mae: 12.1288\n",
      "Epoch 15/100\n",
      "1/1 [==============================] - 0s 7ms/step - loss: 12.0451 - mae: 12.0451\n",
      "Epoch 16/100\n",
      "1/1 [==============================] - 0s 7ms/step - loss: 11.9731 - mae: 11.9731\n",
      "Epoch 17/100\n",
      "1/1 [==============================] - 0s 9ms/step - loss: 11.9121 - mae: 11.9121\n",
      "Epoch 18/100\n",
      "1/1 [==============================] - 0s 8ms/step - loss: 11.8513 - mae: 11.8513\n",
      "Epoch 19/100\n",
      "1/1 [==============================] - 0s 7ms/step - loss: 11.7904 - mae: 11.7904\n",
      "Epoch 20/100\n",
      "1/1 [==============================] - 0s 8ms/step - loss: 11.7291 - mae: 11.7291\n",
      "Epoch 21/100\n",
      "1/1 [==============================] - 0s 8ms/step - loss: 11.6677 - mae: 11.6677\n",
      "Epoch 22/100\n",
      "1/1 [==============================] - 0s 7ms/step - loss: 11.6062 - mae: 11.6062\n",
      "Epoch 23/100\n",
      "1/1 [==============================] - 0s 7ms/step - loss: 11.5449 - mae: 11.5449\n",
      "Epoch 24/100\n",
      "1/1 [==============================] - 0s 9ms/step - loss: 11.4835 - mae: 11.4835\n",
      "Epoch 25/100\n",
      "1/1 [==============================] - 0s 7ms/step - loss: 11.4219 - mae: 11.4219\n",
      "Epoch 26/100\n",
      "1/1 [==============================] - 0s 11ms/step - loss: 11.3601 - mae: 11.3601\n",
      "Epoch 27/100\n",
      "1/1 [==============================] - 0s 10ms/step - loss: 11.2981 - mae: 11.2981\n",
      "Epoch 28/100\n",
      "1/1 [==============================] - 0s 10ms/step - loss: 11.2358 - mae: 11.2358\n",
      "Epoch 29/100\n",
      "1/1 [==============================] - 0s 8ms/step - loss: 11.1735 - mae: 11.1735\n",
      "Epoch 30/100\n",
      "1/1 [==============================] - 0s 8ms/step - loss: 11.1111 - mae: 11.1111\n",
      "Epoch 31/100\n",
      "1/1 [==============================] - 0s 7ms/step - loss: 11.0487 - mae: 11.0487\n",
      "Epoch 32/100\n",
      "1/1 [==============================] - 0s 7ms/step - loss: 10.9864 - mae: 10.9864\n",
      "Epoch 33/100\n",
      "1/1 [==============================] - 0s 9ms/step - loss: 10.9242 - mae: 10.9242\n",
      "Epoch 34/100\n",
      "1/1 [==============================] - 0s 9ms/step - loss: 10.8621 - mae: 10.8621\n",
      "Epoch 35/100\n",
      "1/1 [==============================] - 0s 7ms/step - loss: 10.7996 - mae: 10.7996\n",
      "Epoch 36/100\n",
      "1/1 [==============================] - 0s 6ms/step - loss: 10.7369 - mae: 10.7369\n",
      "Epoch 37/100\n",
      "1/1 [==============================] - 0s 8ms/step - loss: 10.6740 - mae: 10.6740\n",
      "Epoch 38/100\n",
      "1/1 [==============================] - 0s 7ms/step - loss: 10.6107 - mae: 10.6107\n",
      "Epoch 39/100\n",
      "1/1 [==============================] - 0s 7ms/step - loss: 10.5472 - mae: 10.5472\n",
      "Epoch 40/100\n",
      "1/1 [==============================] - 0s 8ms/step - loss: 10.4833 - mae: 10.4833\n",
      "Epoch 41/100\n",
      "1/1 [==============================] - 0s 7ms/step - loss: 10.4192 - mae: 10.4192\n",
      "Epoch 42/100\n",
      "1/1 [==============================] - 0s 8ms/step - loss: 10.3547 - mae: 10.3547\n",
      "Epoch 43/100\n",
      "1/1 [==============================] - 0s 9ms/step - loss: 10.2900 - mae: 10.2900\n",
      "Epoch 44/100\n",
      "1/1 [==============================] - 0s 9ms/step - loss: 10.2249 - mae: 10.2249\n",
      "Epoch 45/100\n",
      "1/1 [==============================] - 0s 8ms/step - loss: 10.1594 - mae: 10.1594\n",
      "Epoch 46/100\n",
      "1/1 [==============================] - 0s 8ms/step - loss: 10.0937 - mae: 10.0937\n",
      "Epoch 47/100\n",
      "1/1 [==============================] - 0s 7ms/step - loss: 10.0276 - mae: 10.0276\n",
      "Epoch 48/100\n",
      "1/1 [==============================] - 0s 8ms/step - loss: 9.9612 - mae: 9.9612\n",
      "Epoch 49/100\n",
      "1/1 [==============================] - 0s 8ms/step - loss: 9.8945 - mae: 9.8945\n",
      "Epoch 50/100\n",
      "1/1 [==============================] - 0s 7ms/step - loss: 9.8274 - mae: 9.8274\n",
      "Epoch 51/100\n",
      "1/1 [==============================] - 0s 7ms/step - loss: 9.7601 - mae: 9.7601\n",
      "Epoch 52/100\n",
      "1/1 [==============================] - 0s 7ms/step - loss: 9.6924 - mae: 9.6924\n",
      "Epoch 53/100\n",
      "1/1 [==============================] - 0s 11ms/step - loss: 9.6244 - mae: 9.6244\n",
      "Epoch 54/100\n",
      "1/1 [==============================] - 0s 12ms/step - loss: 9.5561 - mae: 9.5561\n",
      "Epoch 55/100\n",
      "1/1 [==============================] - 0s 8ms/step - loss: 9.4874 - mae: 9.4874\n",
      "Epoch 56/100\n",
      "1/1 [==============================] - 0s 7ms/step - loss: 9.4183 - mae: 9.4183\n",
      "Epoch 57/100\n",
      "1/1 [==============================] - 0s 8ms/step - loss: 9.3488 - mae: 9.3488\n",
      "Epoch 58/100\n",
      "1/1 [==============================] - 0s 8ms/step - loss: 9.2789 - mae: 9.2789\n",
      "Epoch 59/100\n",
      "1/1 [==============================] - 0s 8ms/step - loss: 9.2086 - mae: 9.2086\n",
      "Epoch 60/100\n",
      "1/1 [==============================] - 0s 8ms/step - loss: 9.1379 - mae: 9.1379\n",
      "Epoch 61/100\n",
      "1/1 [==============================] - 0s 9ms/step - loss: 9.0668 - mae: 9.0668\n",
      "Epoch 62/100\n",
      "1/1 [==============================] - 0s 12ms/step - loss: 8.9952 - mae: 8.9952\n",
      "Epoch 63/100\n",
      "1/1 [==============================] - 0s 8ms/step - loss: 8.9233 - mae: 8.9233\n",
      "Epoch 64/100\n",
      "1/1 [==============================] - 0s 8ms/step - loss: 8.8510 - mae: 8.8510\n",
      "Epoch 65/100\n",
      "1/1 [==============================] - 0s 10ms/step - loss: 8.7782 - mae: 8.7782\n",
      "Epoch 66/100\n",
      "1/1 [==============================] - 0s 7ms/step - loss: 8.7049 - mae: 8.7049\n",
      "Epoch 67/100\n",
      "1/1 [==============================] - 0s 7ms/step - loss: 8.6345 - mae: 8.6345\n",
      "Epoch 68/100\n",
      "1/1 [==============================] - 0s 8ms/step - loss: 8.5619 - mae: 8.5619\n",
      "Epoch 69/100\n",
      "1/1 [==============================] - 0s 7ms/step - loss: 8.4847 - mae: 8.4847\n",
      "Epoch 70/100\n",
      "1/1 [==============================] - 0s 7ms/step - loss: 8.4116 - mae: 8.4116\n",
      "Epoch 71/100\n",
      "1/1 [==============================] - 0s 9ms/step - loss: 8.3380 - mae: 8.3380\n",
      "Epoch 72/100\n",
      "1/1 [==============================] - 0s 8ms/step - loss: 8.2639 - mae: 8.2639\n",
      "Epoch 73/100\n",
      "1/1 [==============================] - 0s 8ms/step - loss: 8.1893 - mae: 8.1893\n",
      "Epoch 74/100\n",
      "1/1 [==============================] - 0s 8ms/step - loss: 8.1140 - mae: 8.1140\n",
      "Epoch 75/100\n",
      "1/1 [==============================] - 0s 7ms/step - loss: 8.0381 - mae: 8.0381\n",
      "Epoch 76/100\n",
      "1/1 [==============================] - 0s 8ms/step - loss: 7.9617 - mae: 7.9617\n",
      "Epoch 77/100\n",
      "1/1 [==============================] - 0s 8ms/step - loss: 7.8847 - mae: 7.8847\n",
      "Epoch 78/100\n",
      "1/1 [==============================] - 0s 12ms/step - loss: 7.8071 - mae: 7.8071\n",
      "Epoch 79/100\n",
      "1/1 [==============================] - 0s 14ms/step - loss: 7.7291 - mae: 7.7291\n",
      "Epoch 80/100\n",
      "1/1 [==============================] - 0s 7ms/step - loss: 7.6506 - mae: 7.6506\n",
      "Epoch 81/100\n",
      "1/1 [==============================] - 0s 8ms/step - loss: 7.5716 - mae: 7.5716\n",
      "Epoch 82/100\n",
      "1/1 [==============================] - 0s 8ms/step - loss: 7.4921 - mae: 7.4921\n",
      "Epoch 83/100\n",
      "1/1 [==============================] - 0s 8ms/step - loss: 7.4120 - mae: 7.4120\n",
      "Epoch 84/100\n",
      "1/1 [==============================] - 0s 9ms/step - loss: 7.3313 - mae: 7.3313\n",
      "Epoch 85/100\n",
      "1/1 [==============================] - 0s 9ms/step - loss: 7.2500 - mae: 7.2500\n",
      "Epoch 86/100\n",
      "1/1 [==============================] - 0s 7ms/step - loss: 7.1682 - mae: 7.1682\n",
      "Epoch 87/100\n",
      "1/1 [==============================] - 0s 10ms/step - loss: 7.0857 - mae: 7.0857\n",
      "Epoch 88/100\n",
      "1/1 [==============================] - 0s 10ms/step - loss: 7.0027 - mae: 7.0027\n",
      "Epoch 89/100\n",
      "1/1 [==============================] - 0s 8ms/step - loss: 6.9219 - mae: 6.9219\n",
      "Epoch 90/100\n",
      "1/1 [==============================] - 0s 8ms/step - loss: 6.8376 - mae: 6.8376\n",
      "Epoch 91/100\n",
      "1/1 [==============================] - 0s 8ms/step - loss: 6.7520 - mae: 6.7520\n",
      "Epoch 92/100\n",
      "1/1 [==============================] - 0s 9ms/step - loss: 6.6678 - mae: 6.6678\n",
      "Epoch 93/100\n",
      "1/1 [==============================] - 0s 7ms/step - loss: 6.5829 - mae: 6.5829\n",
      "Epoch 94/100\n",
      "1/1 [==============================] - 0s 8ms/step - loss: 6.4973 - mae: 6.4973\n",
      "Epoch 95/100\n",
      "1/1 [==============================] - 0s 9ms/step - loss: 6.4109 - mae: 6.4109\n",
      "Epoch 96/100\n",
      "1/1 [==============================] - 0s 7ms/step - loss: 6.3236 - mae: 6.3236\n",
      "Epoch 97/100\n",
      "1/1 [==============================] - 0s 9ms/step - loss: 6.2355 - mae: 6.2355\n",
      "Epoch 98/100\n",
      "1/1 [==============================] - 0s 8ms/step - loss: 6.1464 - mae: 6.1464\n",
      "Epoch 99/100\n",
      "1/1 [==============================] - 0s 8ms/step - loss: 6.0561 - mae: 6.0561\n",
      "Epoch 100/100\n",
      "1/1 [==============================] - 0s 8ms/step - loss: 5.9650 - mae: 5.9650\n"
     ]
    },
    {
     "data": {
      "text/plain": [
       "<keras.src.callbacks.History at 0x7f79ab94eef0>"
      ]
     },
     "execution_count": 12,
     "metadata": {},
     "output_type": "execute_result"
    }
   ],
   "source": [
    "model = tf.keras.Sequential()\n",
    "model.add(tf.keras.layers.Dense(100,activation='relu'))\n",
    "model.add(tf.keras.layers.Dense(1))\n",
    "\n",
    "model.compile(loss=tf.keras.losses.mae,\n",
    "              optimizer=tf.keras.optimizers.Adam(learning_rate=0.001),\n",
    "              metrics=['mae'])\n",
    "\n",
    "model.fit(tf.expand_dims(X, axis=-1), y, epochs=100)"
   ]
  },
  {
   "cell_type": "code",
   "execution_count": 13,
   "metadata": {},
   "outputs": [
    {
     "name": "stdout",
     "output_type": "stream",
     "text": [
      "1/1 [==============================] - 0s 44ms/step\n"
     ]
    },
    {
     "data": {
      "text/plain": [
       "array([[22.56463]], dtype=float32)"
      ]
     },
     "execution_count": 13,
     "metadata": {},
     "output_type": "execute_result"
    }
   ],
   "source": [
    "model.predict([17.0])"
   ]
  },
  {
   "cell_type": "code",
   "execution_count": 14,
   "metadata": {},
   "outputs": [],
   "source": [
    "X = tf.range(-100,100,4)\n",
    "y = X + 10"
   ]
  },
  {
   "cell_type": "code",
   "execution_count": 15,
   "metadata": {},
   "outputs": [
    {
     "data": {
      "text/plain": [
       "<matplotlib.collections.PathCollection at 0x7f79f017f940>"
      ]
     },
     "execution_count": 15,
     "metadata": {},
     "output_type": "execute_result"
    },
    {
     "data": {
      "image/png": "[encoded data removed]",
      "text/plain": [
       "<Figure size 640x480 with 1 Axes>"
      ]
     },
     "metadata": {},
     "output_type": "display_data"
    }
   ],
   "source": [
    "import matplotlib.pyplot as plt\n",
    "plt.scatter(X,y)"
   ]
  },
  {
   "cell_type": "code",
   "execution_count": 16,
   "metadata": {},
   "outputs": [],
   "source": [
    "from sklearn.model_selection import train_test_split\n",
    "\n",
    "X_numpy = X.numpy()\n",
    "y_numpy = y.numpy()\n",
    "X_train, X_test, y_train, y_test = train_test_split(X_numpy,y_numpy, test_size=0.2, random_state=42)\n",
    "\n",
    "X_train = tf.constant(X_train)\n",
    "X_test = tf.constant(X_test)\n",
    "y_train = tf.constant(y_train)\n",
    "y_test = tf.constant(y_test)"
   ]
  },
  {
   "cell_type": "code",
   "execution_count": 17,
   "metadata": {},
   "outputs": [
    {
     "data": {
      "text/plain": [
       "(40, 10)"
      ]
     },
     "execution_count": 17,
     "metadata": {},
     "output_type": "execute_result"
    }
   ],
   "source": [
    "len(X_train), len(X_test)"
   ]
  },
  {
   "cell_type": "code",
   "execution_count": 18,
   "metadata": {},
   "outputs": [
    {
     "data": {
      "image/png": "[encoded data removed]",
      "text/plain": [
       "<Figure size 1000x700 with 1 Axes>"
      ]
     },
     "metadata": {},
     "output_type": "display_data"
    }
   ],
   "source": [
    "plt.figure(figsize=(10,7))\n",
    "plt.scatter(X_train, y_train, c='b',label='Train')\n",
    "plt.scatter(X_test, y_test, c='g',label='Test')\n",
    "plt.legend();"
   ]
  },
  {
   "cell_type": "code",
   "execution_count": 24,
   "metadata": {},
   "outputs": [
    {
     "data": {
      "text/html": [
       "<div>\n",
       "<style scoped>\n",
       "    .dataframe tbody tr th:only-of-type {\n",
       "        vertical-align: middle;\n",
       "    }\n",
       "\n",
       "    .dataframe tbody tr th {\n",
       "        vertical-align: top;\n",
       "    }\n",
       "\n",
       "    .dataframe thead th {\n",
       "        text-align: right;\n",
       "    }\n",
       "</style>\n",
       "<table border=\"1\" class=\"dataframe\">\n",
       "  <thead>\n",
       "    <tr style=\"text-align: right;\">\n",
       "      <th></th>\n",
       "      <th>age</th>\n",
       "      <th>sex</th>\n",
       "      <th>bmi</th>\n",
       "      <th>children</th>\n",
       "      <th>smoker</th>\n",
       "      <th>region</th>\n",
       "      <th>charges</th>\n",
       "    </tr>\n",
       "  </thead>\n",
       "  <tbody>\n",
       "    <tr>\n",
       "      <th>0</th>\n",
       "      <td>19</td>\n",
       "      <td>female</td>\n",
       "      <td>27.900</td>\n",
       "      <td>0</td>\n",
       "      <td>yes</td>\n",
       "      <td>southwest</td>\n",
       "      <td>16884.92400</td>\n",
       "    </tr>\n",
       "    <tr>\n",
       "      <th>1</th>\n",
       "      <td>18</td>\n",
       "      <td>male</td>\n",
       "      <td>33.770</td>\n",
       "      <td>1</td>\n",
       "      <td>no</td>\n",
       "      <td>southeast</td>\n",
       "      <td>1725.55230</td>\n",
       "    </tr>\n",
       "    <tr>\n",
       "      <th>2</th>\n",
       "      <td>28</td>\n",
       "      <td>male</td>\n",
       "      <td>33.000</td>\n",
       "      <td>3</td>\n",
       "      <td>no</td>\n",
       "      <td>southeast</td>\n",
       "      <td>4449.46200</td>\n",
       "    </tr>\n",
       "    <tr>\n",
       "      <th>3</th>\n",
       "      <td>33</td>\n",
       "      <td>male</td>\n",
       "      <td>22.705</td>\n",
       "      <td>0</td>\n",
       "      <td>no</td>\n",
       "      <td>northwest</td>\n",
       "      <td>21984.47061</td>\n",
       "    </tr>\n",
       "    <tr>\n",
       "      <th>4</th>\n",
       "      <td>32</td>\n",
       "      <td>male</td>\n",
       "      <td>28.880</td>\n",
       "      <td>0</td>\n",
       "      <td>no</td>\n",
       "      <td>northwest</td>\n",
       "      <td>3866.85520</td>\n",
       "    </tr>\n",
       "    <tr>\n",
       "      <th>...</th>\n",
       "      <td>...</td>\n",
       "      <td>...</td>\n",
       "      <td>...</td>\n",
       "      <td>...</td>\n",
       "      <td>...</td>\n",
       "      <td>...</td>\n",
       "      <td>...</td>\n",
       "    </tr>\n",
       "    <tr>\n",
       "      <th>1333</th>\n",
       "      <td>50</td>\n",
       "      <td>male</td>\n",
       "      <td>30.970</td>\n",
       "      <td>3</td>\n",
       "      <td>no</td>\n",
       "      <td>northwest</td>\n",
       "      <td>10600.54830</td>\n",
       "    </tr>\n",
       "    <tr>\n",
       "      <th>1334</th>\n",
       "      <td>18</td>\n",
       "      <td>female</td>\n",
       "      <td>31.920</td>\n",
       "      <td>0</td>\n",
       "      <td>no</td>\n",
       "      <td>northeast</td>\n",
       "      <td>2205.98080</td>\n",
       "    </tr>\n",
       "    <tr>\n",
       "      <th>1335</th>\n",
       "      <td>18</td>\n",
       "      <td>female</td>\n",
       "      <td>36.850</td>\n",
       "      <td>0</td>\n",
       "      <td>no</td>\n",
       "      <td>southeast</td>\n",
       "      <td>1629.83350</td>\n",
       "    </tr>\n",
       "    <tr>\n",
       "      <th>1336</th>\n",
       "      <td>21</td>\n",
       "      <td>female</td>\n",
       "      <td>25.800</td>\n",
       "      <td>0</td>\n",
       "      <td>no</td>\n",
       "      <td>southwest</td>\n",
       "      <td>2007.94500</td>\n",
       "    </tr>\n",
       "    <tr>\n",
       "      <th>1337</th>\n",
       "      <td>61</td>\n",
       "      <td>female</td>\n",
       "      <td>29.070</td>\n",
       "      <td>0</td>\n",
       "      <td>yes</td>\n",
       "      <td>northwest</td>\n",
       "      <td>29141.36030</td>\n",
       "    </tr>\n",
       "  </tbody>\n",
       "</table>\n",
       "<p>1338 rows × 7 columns</p>\n",
       "</div>"
      ],
      "text/plain": [
       "      age     sex     bmi  children smoker     region      charges\n",
       "0      19  female  27.900         0    yes  southwest  16884.92400\n",
       "1      18    male  33.770         1     no  southeast   1725.55230\n",
       "2      28    male  33.000         3     no  southeast   4449.46200\n",
       "3      33    male  22.705         0     no  northwest  21984.47061\n",
       "4      32    male  28.880         0     no  northwest   3866.85520\n",
       "...   ...     ...     ...       ...    ...        ...          ...\n",
       "1333   50    male  30.970         3     no  northwest  10600.54830\n",
       "1334   18  female  31.920         0     no  northeast   2205.98080\n",
       "1335   18  female  36.850         0     no  southeast   1629.83350\n",
       "1336   21  female  25.800         0     no  southwest   2007.94500\n",
       "1337   61  female  29.070         0    yes  northwest  29141.36030\n",
       "\n",
       "[1338 rows x 7 columns]"
      ]
     },
     "execution_count": 24,
     "metadata": {},
     "output_type": "execute_result"
    }
   ],
   "source": [
    "import tensorflow as tf\n",
    "import pandas as pd\n",
    "import matplotlib.pyplot as plt\n",
    "insurance = pd.read_csv('https://raw.githubusercontent.com/stedy/Machine-Learning-with-R-datasets/master/insurance.csv')\n",
    "insurance"
   ]
  },
  {
   "cell_type": "code",
   "execution_count": 25,
   "metadata": {},
   "outputs": [
    {
     "data": {
      "text/html": [
       "<div>\n",
       "<style scoped>\n",
       "    .dataframe tbody tr th:only-of-type {\n",
       "        vertical-align: middle;\n",
       "    }\n",
       "\n",
       "    .dataframe tbody tr th {\n",
       "        vertical-align: top;\n",
       "    }\n",
       "\n",
       "    .dataframe thead th {\n",
       "        text-align: right;\n",
       "    }\n",
       "</style>\n",
       "<table border=\"1\" class=\"dataframe\">\n",
       "  <thead>\n",
       "    <tr style=\"text-align: right;\">\n",
       "      <th></th>\n",
       "      <th>age</th>\n",
       "      <th>bmi</th>\n",
       "      <th>children</th>\n",
       "      <th>charges</th>\n",
       "      <th>sex_female</th>\n",
       "      <th>sex_male</th>\n",
       "      <th>smoker_no</th>\n",
       "      <th>smoker_yes</th>\n",
       "      <th>region_northeast</th>\n",
       "      <th>region_northwest</th>\n",
       "      <th>region_southeast</th>\n",
       "      <th>region_southwest</th>\n",
       "    </tr>\n",
       "  </thead>\n",
       "  <tbody>\n",
       "    <tr>\n",
       "      <th>0</th>\n",
       "      <td>19</td>\n",
       "      <td>27.900</td>\n",
       "      <td>0</td>\n",
       "      <td>16884.92400</td>\n",
       "      <td>True</td>\n",
       "      <td>False</td>\n",
       "      <td>False</td>\n",
       "      <td>True</td>\n",
       "      <td>False</td>\n",
       "      <td>False</td>\n",
       "      <td>False</td>\n",
       "      <td>True</td>\n",
       "    </tr>\n",
       "    <tr>\n",
       "      <th>1</th>\n",
       "      <td>18</td>\n",
       "      <td>33.770</td>\n",
       "      <td>1</td>\n",
       "      <td>1725.55230</td>\n",
       "      <td>False</td>\n",
       "      <td>True</td>\n",
       "      <td>True</td>\n",
       "      <td>False</td>\n",
       "      <td>False</td>\n",
       "      <td>False</td>\n",
       "      <td>True</td>\n",
       "      <td>False</td>\n",
       "    </tr>\n",
       "    <tr>\n",
       "      <th>2</th>\n",
       "      <td>28</td>\n",
       "      <td>33.000</td>\n",
       "      <td>3</td>\n",
       "      <td>4449.46200</td>\n",
       "      <td>False</td>\n",
       "      <td>True</td>\n",
       "      <td>True</td>\n",
       "      <td>False</td>\n",
       "      <td>False</td>\n",
       "      <td>False</td>\n",
       "      <td>True</td>\n",
       "      <td>False</td>\n",
       "    </tr>\n",
       "    <tr>\n",
       "      <th>3</th>\n",
       "      <td>33</td>\n",
       "      <td>22.705</td>\n",
       "      <td>0</td>\n",
       "      <td>21984.47061</td>\n",
       "      <td>False</td>\n",
       "      <td>True</td>\n",
       "      <td>True</td>\n",
       "      <td>False</td>\n",
       "      <td>False</td>\n",
       "      <td>True</td>\n",
       "      <td>False</td>\n",
       "      <td>False</td>\n",
       "    </tr>\n",
       "    <tr>\n",
       "      <th>4</th>\n",
       "      <td>32</td>\n",
       "      <td>28.880</td>\n",
       "      <td>0</td>\n",
       "      <td>3866.85520</td>\n",
       "      <td>False</td>\n",
       "      <td>True</td>\n",
       "      <td>True</td>\n",
       "      <td>False</td>\n",
       "      <td>False</td>\n",
       "      <td>True</td>\n",
       "      <td>False</td>\n",
       "      <td>False</td>\n",
       "    </tr>\n",
       "  </tbody>\n",
       "</table>\n",
       "</div>"
      ],
      "text/plain": [
       "   age     bmi  children      charges  sex_female  sex_male  smoker_no  \\\n",
       "0   19  27.900         0  16884.92400        True     False      False   \n",
       "1   18  33.770         1   1725.55230       False      True       True   \n",
       "2   28  33.000         3   4449.46200       False      True       True   \n",
       "3   33  22.705         0  21984.47061       False      True       True   \n",
       "4   32  28.880         0   3866.85520       False      True       True   \n",
       "\n",
       "   smoker_yes  region_northeast  region_northwest  region_southeast  \\\n",
       "0        True             False             False             False   \n",
       "1       False             False             False              True   \n",
       "2       False             False             False              True   \n",
       "3       False             False              True             False   \n",
       "4       False             False              True             False   \n",
       "\n",
       "   region_southwest  \n",
       "0              True  \n",
       "1             False  \n",
       "2             False  \n",
       "3             False  \n",
       "4             False  "
      ]
     },
     "execution_count": 25,
     "metadata": {},
     "output_type": "execute_result"
    }
   ],
   "source": [
    "insurance_one_hot = pd.get_dummies(insurance)\n",
    "insurance_one_hot.head()"
   ]
  },
  {
   "cell_type": "code",
   "execution_count": 30,
   "metadata": {},
   "outputs": [],
   "source": [
    "X = insurance_one_hot.drop(['charges'], axis=1)\n",
    "y = insurance_one_hot['charges']"
   ]
  },
  {
   "cell_type": "code",
   "execution_count": 40,
   "metadata": {},
   "outputs": [],
   "source": [
    "from sklearn.model_selection import train_test_split\n",
    "X_train, X_test, y_train, y_test = train_test_split(X, y, test_size=0.2, random_state=42)\n",
    "\n",
    "X_train = tf.convert_to_tensor(X_train, dtype=tf.float32)\n",
    "X_test = tf.convert_to_tensor(X_test, dtype=tf.float32)\n",
    "y_train = tf.convert_to_tensor(y_train, dtype=tf.float32)\n",
    "y_test = tf.convert_to_tensor(y_test, dtype=tf.float32)"
   ]
  },
  {
   "cell_type": "code",
   "execution_count": 41,
   "metadata": {},
   "outputs": [
    {
     "data": {
      "text/plain": [
       "(1338, 1070, 268)"
      ]
     },
     "execution_count": 41,
     "metadata": {},
     "output_type": "execute_result"
    }
   ],
   "source": [
    "len(X),len(X_train), len(X_test)"
   ]
  },
  {
   "cell_type": "code",
   "execution_count": 42,
   "metadata": {},
   "outputs": [
    {
     "name": "stdout",
     "output_type": "stream",
     "text": [
      "Epoch 1/100\n",
      "34/34 [==============================] - 0s 4ms/step - loss: 8554.5732 - mae: 8554.5732\n",
      "Epoch 2/100\n",
      "34/34 [==============================] - 0s 4ms/step - loss: 7878.1431 - mae: 7878.1431\n",
      "Epoch 3/100\n",
      "34/34 [==============================] - 0s 4ms/step - loss: 7541.5273 - mae: 7541.5273\n",
      "Epoch 4/100\n",
      "34/34 [==============================] - 0s 4ms/step - loss: 7779.9995 - mae: 7779.9995\n",
      "Epoch 5/100\n",
      "34/34 [==============================] - 0s 4ms/step - loss: 7620.4712 - mae: 7620.4712\n",
      "Epoch 6/100\n",
      "34/34 [==============================] - 0s 4ms/step - loss: 7641.9771 - mae: 7641.9771\n",
      "Epoch 7/100\n",
      "34/34 [==============================] - 0s 4ms/step - loss: 7555.3003 - mae: 7555.3003\n",
      "Epoch 8/100\n",
      "34/34 [==============================] - 0s 4ms/step - loss: 7805.8013 - mae: 7805.8013\n",
      "Epoch 9/100\n",
      "34/34 [==============================] - 0s 4ms/step - loss: 7499.9653 - mae: 7499.9653\n",
      "Epoch 10/100\n",
      "34/34 [==============================] - 0s 4ms/step - loss: 7717.2871 - mae: 7717.2871\n",
      "Epoch 11/100\n",
      "34/34 [==============================] - 0s 3ms/step - loss: 7548.4536 - mae: 7548.4536\n",
      "Epoch 12/100\n",
      "34/34 [==============================] - 0s 3ms/step - loss: 7555.7729 - mae: 7555.7729\n",
      "Epoch 13/100\n",
      "34/34 [==============================] - 0s 3ms/step - loss: 7689.9404 - mae: 7689.9404\n",
      "Epoch 14/100\n",
      "34/34 [==============================] - 0s 4ms/step - loss: 7649.0117 - mae: 7649.0117\n",
      "Epoch 15/100\n",
      "34/34 [==============================] - 0s 3ms/step - loss: 7516.1772 - mae: 7516.1772\n",
      "Epoch 16/100\n",
      "34/34 [==============================] - 0s 3ms/step - loss: 7773.6699 - mae: 7773.6699\n",
      "Epoch 17/100\n",
      "34/34 [==============================] - 0s 3ms/step - loss: 7502.5850 - mae: 7502.5850\n",
      "Epoch 18/100\n",
      "34/34 [==============================] - 0s 4ms/step - loss: 7825.4336 - mae: 7825.4336\n",
      "Epoch 19/100\n",
      "34/34 [==============================] - 0s 3ms/step - loss: 7538.2642 - mae: 7538.2642\n",
      "Epoch 20/100\n",
      "34/34 [==============================] - 0s 4ms/step - loss: 7918.5703 - mae: 7918.5703\n",
      "Epoch 21/100\n",
      "34/34 [==============================] - 0s 4ms/step - loss: 7505.3301 - mae: 7505.3301\n",
      "Epoch 22/100\n",
      "34/34 [==============================] - 0s 3ms/step - loss: 7918.2227 - mae: 7918.2227\n",
      "Epoch 23/100\n",
      "34/34 [==============================] - 0s 3ms/step - loss: 7662.5527 - mae: 7662.5527\n",
      "Epoch 24/100\n",
      "34/34 [==============================] - 0s 4ms/step - loss: 7531.6343 - mae: 7531.6343\n",
      "Epoch 25/100\n",
      "34/34 [==============================] - 0s 4ms/step - loss: 7702.2881 - mae: 7702.2881\n",
      "Epoch 26/100\n",
      "34/34 [==============================] - 0s 4ms/step - loss: 7648.4722 - mae: 7648.4722\n",
      "Epoch 27/100\n",
      "34/34 [==============================] - 0s 3ms/step - loss: 7579.0376 - mae: 7579.0376\n",
      "Epoch 28/100\n",
      "34/34 [==============================] - 0s 3ms/step - loss: 7244.1221 - mae: 7244.1221\n",
      "Epoch 29/100\n",
      "34/34 [==============================] - 0s 3ms/step - loss: 7671.2427 - mae: 7671.2427\n",
      "Epoch 30/100\n",
      "34/34 [==============================] - 0s 3ms/step - loss: 7613.7246 - mae: 7613.7246\n",
      "Epoch 31/100\n",
      "34/34 [==============================] - 0s 3ms/step - loss: 7556.8467 - mae: 7556.8467\n",
      "Epoch 32/100\n",
      "34/34 [==============================] - 0s 3ms/step - loss: 7444.4297 - mae: 7444.4297\n",
      "Epoch 33/100\n",
      "34/34 [==============================] - 0s 3ms/step - loss: 7496.0234 - mae: 7496.0234\n",
      "Epoch 34/100\n",
      "34/34 [==============================] - 0s 3ms/step - loss: 7373.9526 - mae: 7373.9526\n",
      "Epoch 35/100\n",
      "34/34 [==============================] - 0s 4ms/step - loss: 7616.2046 - mae: 7616.2046\n",
      "Epoch 36/100\n",
      "34/34 [==============================] - 0s 3ms/step - loss: 7601.1104 - mae: 7601.1104\n",
      "Epoch 37/100\n",
      "34/34 [==============================] - 0s 3ms/step - loss: 7488.7178 - mae: 7488.7178\n",
      "Epoch 38/100\n",
      "34/34 [==============================] - 0s 3ms/step - loss: 7359.3066 - mae: 7359.3066\n",
      "Epoch 39/100\n",
      "34/34 [==============================] - 0s 3ms/step - loss: 7552.1699 - mae: 7552.1699\n",
      "Epoch 40/100\n",
      "34/34 [==============================] - 0s 3ms/step - loss: 7319.7798 - mae: 7319.7798\n",
      "Epoch 41/100\n",
      "34/34 [==============================] - 0s 3ms/step - loss: 7710.9663 - mae: 7710.9663\n",
      "Epoch 42/100\n",
      "34/34 [==============================] - 0s 3ms/step - loss: 7698.3223 - mae: 7698.3223\n",
      "Epoch 43/100\n",
      "34/34 [==============================] - 0s 3ms/step - loss: 7625.5049 - mae: 7625.5049\n",
      "Epoch 44/100\n",
      "34/34 [==============================] - 0s 4ms/step - loss: 7366.7998 - mae: 7366.7998\n",
      "Epoch 45/100\n",
      "34/34 [==============================] - 0s 3ms/step - loss: 7525.0854 - mae: 7525.0854\n",
      "Epoch 46/100\n",
      "34/34 [==============================] - 0s 3ms/step - loss: 7343.7881 - mae: 7343.7881\n",
      "Epoch 47/100\n",
      "34/34 [==============================] - 0s 3ms/step - loss: 7475.5684 - mae: 7475.5684\n",
      "Epoch 48/100\n",
      "34/34 [==============================] - 0s 3ms/step - loss: 7488.3105 - mae: 7488.3105\n",
      "Epoch 49/100\n",
      "34/34 [==============================] - 0s 3ms/step - loss: 7553.2217 - mae: 7553.2217\n",
      "Epoch 50/100\n",
      "34/34 [==============================] - 0s 3ms/step - loss: 7487.6704 - mae: 7487.6704\n",
      "Epoch 51/100\n",
      "34/34 [==============================] - 0s 3ms/step - loss: 7384.3911 - mae: 7384.3911\n",
      "Epoch 52/100\n",
      "34/34 [==============================] - 0s 3ms/step - loss: 7507.1606 - mae: 7507.1606\n",
      "Epoch 53/100\n",
      "34/34 [==============================] - 0s 3ms/step - loss: 7570.1611 - mae: 7570.1611\n",
      "Epoch 54/100\n",
      "34/34 [==============================] - 0s 4ms/step - loss: 7137.0220 - mae: 7137.0220\n",
      "Epoch 55/100\n",
      "34/34 [==============================] - 0s 3ms/step - loss: 7115.9951 - mae: 7115.9951\n",
      "Epoch 56/100\n",
      "34/34 [==============================] - 0s 3ms/step - loss: 7362.5752 - mae: 7362.5752\n",
      "Epoch 57/100\n",
      "34/34 [==============================] - 0s 3ms/step - loss: 7389.4541 - mae: 7389.4541\n",
      "Epoch 58/100\n",
      "34/34 [==============================] - 0s 3ms/step - loss: 7543.8560 - mae: 7543.8560\n",
      "Epoch 59/100\n",
      "34/34 [==============================] - 0s 3ms/step - loss: 7657.9683 - mae: 7657.9683\n",
      "Epoch 60/100\n",
      "34/34 [==============================] - 0s 3ms/step - loss: 7476.0962 - mae: 7476.0962\n",
      "Epoch 61/100\n",
      "34/34 [==============================] - 0s 3ms/step - loss: 7501.0088 - mae: 7501.0088\n",
      "Epoch 62/100\n",
      "34/34 [==============================] - 0s 3ms/step - loss: 7424.0073 - mae: 7424.0073\n",
      "Epoch 63/100\n",
      "34/34 [==============================] - 0s 4ms/step - loss: 7315.9863 - mae: 7315.9863\n",
      "Epoch 64/100\n",
      "34/34 [==============================] - 0s 4ms/step - loss: 7276.0430 - mae: 7276.0430\n",
      "Epoch 65/100\n",
      "34/34 [==============================] - 0s 4ms/step - loss: 7418.2539 - mae: 7418.2539\n",
      "Epoch 66/100\n",
      "34/34 [==============================] - 0s 3ms/step - loss: 7258.0601 - mae: 7258.0601\n",
      "Epoch 67/100\n",
      "34/34 [==============================] - 0s 3ms/step - loss: 7220.8530 - mae: 7220.8530\n",
      "Epoch 68/100\n",
      "34/34 [==============================] - 0s 3ms/step - loss: 7412.0508 - mae: 7412.0508\n",
      "Epoch 69/100\n",
      "34/34 [==============================] - 0s 3ms/step - loss: 7657.9321 - mae: 7657.9321\n",
      "Epoch 70/100\n",
      "34/34 [==============================] - 0s 3ms/step - loss: 7668.9561 - mae: 7668.9561\n",
      "Epoch 71/100\n",
      "34/34 [==============================] - 0s 4ms/step - loss: 7316.1118 - mae: 7316.1118\n",
      "Epoch 72/100\n",
      "34/34 [==============================] - 0s 3ms/step - loss: 7264.2207 - mae: 7264.2207\n",
      "Epoch 73/100\n",
      "34/34 [==============================] - 0s 4ms/step - loss: 7201.7246 - mae: 7201.7246\n",
      "Epoch 74/100\n",
      "34/34 [==============================] - 0s 3ms/step - loss: 7364.6504 - mae: 7364.6504\n",
      "Epoch 75/100\n",
      "34/34 [==============================] - 0s 3ms/step - loss: 7335.5850 - mae: 7335.5850\n",
      "Epoch 76/100\n",
      "34/34 [==============================] - 0s 3ms/step - loss: 7282.0024 - mae: 7282.0024\n",
      "Epoch 77/100\n",
      "34/34 [==============================] - 0s 3ms/step - loss: 7420.2563 - mae: 7420.2563\n",
      "Epoch 78/100\n",
      "34/34 [==============================] - 0s 3ms/step - loss: 7487.0151 - mae: 7487.0151\n",
      "Epoch 79/100\n",
      "34/34 [==============================] - 0s 4ms/step - loss: 7617.0596 - mae: 7617.0596\n",
      "Epoch 80/100\n",
      "34/34 [==============================] - 0s 3ms/step - loss: 7351.8486 - mae: 7351.8486\n",
      "Epoch 81/100\n",
      "34/34 [==============================] - 0s 3ms/step - loss: 7123.2178 - mae: 7123.2178\n",
      "Epoch 82/100\n",
      "34/34 [==============================] - 0s 3ms/step - loss: 7170.0737 - mae: 7170.0737\n",
      "Epoch 83/100\n",
      "34/34 [==============================] - 0s 3ms/step - loss: 7436.4912 - mae: 7436.4912\n",
      "Epoch 84/100\n",
      "34/34 [==============================] - 0s 3ms/step - loss: 7253.2129 - mae: 7253.2129\n",
      "Epoch 85/100\n",
      "34/34 [==============================] - 0s 3ms/step - loss: 7475.6274 - mae: 7475.6274\n",
      "Epoch 86/100\n",
      "34/34 [==============================] - 0s 3ms/step - loss: 7491.7402 - mae: 7491.7402\n",
      "Epoch 87/100\n",
      "34/34 [==============================] - 0s 3ms/step - loss: 7265.1572 - mae: 7265.1572\n",
      "Epoch 88/100\n",
      "34/34 [==============================] - 0s 4ms/step - loss: 7355.1816 - mae: 7355.1816\n",
      "Epoch 89/100\n",
      "34/34 [==============================] - 0s 3ms/step - loss: 7299.7222 - mae: 7299.7222\n",
      "Epoch 90/100\n",
      "34/34 [==============================] - 0s 4ms/step - loss: 6976.4673 - mae: 6976.4673\n",
      "Epoch 91/100\n",
      "34/34 [==============================] - 0s 3ms/step - loss: 7253.9668 - mae: 7253.9668\n",
      "Epoch 92/100\n",
      "34/34 [==============================] - 0s 3ms/step - loss: 7291.5688 - mae: 7291.5688\n",
      "Epoch 93/100\n",
      "34/34 [==============================] - 0s 3ms/step - loss: 7450.4775 - mae: 7450.4775\n",
      "Epoch 94/100\n",
      "34/34 [==============================] - 0s 4ms/step - loss: 7302.9146 - mae: 7302.9146\n",
      "Epoch 95/100\n",
      "34/34 [==============================] - 0s 3ms/step - loss: 7426.8804 - mae: 7426.8804\n",
      "Epoch 96/100\n",
      "34/34 [==============================] - 0s 4ms/step - loss: 7240.5903 - mae: 7240.5903\n",
      "Epoch 97/100\n",
      "34/34 [==============================] - 0s 4ms/step - loss: 7219.4014 - mae: 7219.4014\n",
      "Epoch 98/100\n",
      "34/34 [==============================] - 0s 4ms/step - loss: 7441.5703 - mae: 7441.5703\n",
      "Epoch 99/100\n",
      "34/34 [==============================] - 0s 4ms/step - loss: 7339.5815 - mae: 7339.5815\n",
      "Epoch 100/100\n",
      "34/34 [==============================] - 0s 3ms/step - loss: 7234.7393 - mae: 7234.7393\n"
     ]
    },
    {
     "data": {
      "text/plain": [
       "<keras.src.callbacks.History at 0x7f7902879240>"
      ]
     },
     "execution_count": 42,
     "metadata": {},
     "output_type": "execute_result"
    }
   ],
   "source": [
    "tf.random.set_seed(42)\n",
    "insurance_model = tf.keras.Sequential([\n",
    "    tf.keras.layers.Dense(10),\n",
    "    tf.keras.layers.Dense(1)\n",
    "])\n",
    "\n",
    "insurance_model.compile(loss=tf.keras.losses.mae,\n",
    "                        optimizer = tf.keras.optimizers.SGD(),\n",
    "                        metrics=['mae'])\n",
    "insurance_model.fit(X_train, y_train, epochs=100)\n",
    "\n"
   ]
  },
  {
   "cell_type": "code",
   "execution_count": 43,
   "metadata": {},
   "outputs": [
    {
     "name": "stdout",
     "output_type": "stream",
     "text": [
      "9/9 [==============================] - 0s 3ms/step - loss: 8835.8496 - mae: 8835.8496\n"
     ]
    },
    {
     "data": {
      "text/plain": [
       "[8835.849609375, 8835.849609375]"
      ]
     },
     "execution_count": 43,
     "metadata": {},
     "output_type": "execute_result"
    }
   ],
   "source": [
    "insurance_model.evaluate(X_test, y_test)"
   ]
  },
  {
   "cell_type": "code",
   "execution_count": 49,
   "metadata": {},
   "outputs": [
    {
     "name": "stdout",
     "output_type": "stream",
     "text": [
      "9/9 [==============================] - 0s 2ms/step - loss: 3614.5874 - mae: 3614.5874\n"
     ]
    },
    {
     "data": {
      "text/plain": [
       "[3614.58740234375, 3614.58740234375]"
      ]
     },
     "execution_count": 49,
     "metadata": {},
     "output_type": "execute_result"
    }
   ],
   "source": [
    "tf.random.set_seed(42)\n",
    "\n",
    "callback = tf.keras.callbacks.EarlyStopping(monitor='loss',\n",
    "                                              patience=3)\n",
    "\n",
    "insurance_model = tf.keras.Sequential([\n",
    "    tf.keras.layers.Dense(100),\n",
    "    tf.keras.layers.Dense(10),\n",
    "    tf.keras.layers.Dense(1)\n",
    "])\n",
    "\n",
    "insurance_model.compile(loss=tf.keras.losses.mae,\n",
    "                        optimizer=tf.keras.optimizers.Adam(learning_rate=0.001),\n",
    "                        metrics=['mae'])\n",
    "history = insurance_model.fit(X_train, y_train, epochs=2000, verbose=0, callbacks=[callback])\n",
    "\n",
    "insurance_model.evaluate(X_test, y_test)"
   ]
  },
  {
   "cell_type": "code",
   "execution_count": 50,
   "metadata": {},
   "outputs": [
    {
     "data": {
      "text/plain": [
       "Text(0.5, 0, 'epochs')"
      ]
     },
     "execution_count": 50,
     "metadata": {},
     "output_type": "execute_result"
    },
    {
     "data": {
      "image/png": "[encoded data removed]",
      "text/plain": [
       "<Figure size 640x480 with 1 Axes>"
      ]
     },
     "metadata": {},
     "output_type": "display_data"
    }
   ],
   "source": [
    "pd.DataFrame(history.history).plot()\n",
    "plt.ylabel('loss')\n",
    "plt.xlabel('epochs')"
   ]
  },
  {
   "cell_type": "code",
   "execution_count": 52,
   "metadata": {},
   "outputs": [
    {
     "data": {
      "text/html": [
       "<div>\n",
       "<style scoped>\n",
       "    .dataframe tbody tr th:only-of-type {\n",
       "        vertical-align: middle;\n",
       "    }\n",
       "\n",
       "    .dataframe tbody tr th {\n",
       "        vertical-align: top;\n",
       "    }\n",
       "\n",
       "    .dataframe thead th {\n",
       "        text-align: right;\n",
       "    }\n",
       "</style>\n",
       "<table border=\"1\" class=\"dataframe\">\n",
       "  <thead>\n",
       "    <tr style=\"text-align: right;\">\n",
       "      <th></th>\n",
       "      <th>age</th>\n",
       "      <th>sex</th>\n",
       "      <th>bmi</th>\n",
       "      <th>children</th>\n",
       "      <th>smoker</th>\n",
       "      <th>region</th>\n",
       "      <th>charges</th>\n",
       "    </tr>\n",
       "  </thead>\n",
       "  <tbody>\n",
       "    <tr>\n",
       "      <th>0</th>\n",
       "      <td>19</td>\n",
       "      <td>female</td>\n",
       "      <td>27.900</td>\n",
       "      <td>0</td>\n",
       "      <td>yes</td>\n",
       "      <td>southwest</td>\n",
       "      <td>16884.92400</td>\n",
       "    </tr>\n",
       "    <tr>\n",
       "      <th>1</th>\n",
       "      <td>18</td>\n",
       "      <td>male</td>\n",
       "      <td>33.770</td>\n",
       "      <td>1</td>\n",
       "      <td>no</td>\n",
       "      <td>southeast</td>\n",
       "      <td>1725.55230</td>\n",
       "    </tr>\n",
       "    <tr>\n",
       "      <th>2</th>\n",
       "      <td>28</td>\n",
       "      <td>male</td>\n",
       "      <td>33.000</td>\n",
       "      <td>3</td>\n",
       "      <td>no</td>\n",
       "      <td>southeast</td>\n",
       "      <td>4449.46200</td>\n",
       "    </tr>\n",
       "    <tr>\n",
       "      <th>3</th>\n",
       "      <td>33</td>\n",
       "      <td>male</td>\n",
       "      <td>22.705</td>\n",
       "      <td>0</td>\n",
       "      <td>no</td>\n",
       "      <td>northwest</td>\n",
       "      <td>21984.47061</td>\n",
       "    </tr>\n",
       "    <tr>\n",
       "      <th>4</th>\n",
       "      <td>32</td>\n",
       "      <td>male</td>\n",
       "      <td>28.880</td>\n",
       "      <td>0</td>\n",
       "      <td>no</td>\n",
       "      <td>northwest</td>\n",
       "      <td>3866.85520</td>\n",
       "    </tr>\n",
       "    <tr>\n",
       "      <th>...</th>\n",
       "      <td>...</td>\n",
       "      <td>...</td>\n",
       "      <td>...</td>\n",
       "      <td>...</td>\n",
       "      <td>...</td>\n",
       "      <td>...</td>\n",
       "      <td>...</td>\n",
       "    </tr>\n",
       "    <tr>\n",
       "      <th>1333</th>\n",
       "      <td>50</td>\n",
       "      <td>male</td>\n",
       "      <td>30.970</td>\n",
       "      <td>3</td>\n",
       "      <td>no</td>\n",
       "      <td>northwest</td>\n",
       "      <td>10600.54830</td>\n",
       "    </tr>\n",
       "    <tr>\n",
       "      <th>1334</th>\n",
       "      <td>18</td>\n",
       "      <td>female</td>\n",
       "      <td>31.920</td>\n",
       "      <td>0</td>\n",
       "      <td>no</td>\n",
       "      <td>northeast</td>\n",
       "      <td>2205.98080</td>\n",
       "    </tr>\n",
       "    <tr>\n",
       "      <th>1335</th>\n",
       "      <td>18</td>\n",
       "      <td>female</td>\n",
       "      <td>36.850</td>\n",
       "      <td>0</td>\n",
       "      <td>no</td>\n",
       "      <td>southeast</td>\n",
       "      <td>1629.83350</td>\n",
       "    </tr>\n",
       "    <tr>\n",
       "      <th>1336</th>\n",
       "      <td>21</td>\n",
       "      <td>female</td>\n",
       "      <td>25.800</td>\n",
       "      <td>0</td>\n",
       "      <td>no</td>\n",
       "      <td>southwest</td>\n",
       "      <td>2007.94500</td>\n",
       "    </tr>\n",
       "    <tr>\n",
       "      <th>1337</th>\n",
       "      <td>61</td>\n",
       "      <td>female</td>\n",
       "      <td>29.070</td>\n",
       "      <td>0</td>\n",
       "      <td>yes</td>\n",
       "      <td>northwest</td>\n",
       "      <td>29141.36030</td>\n",
       "    </tr>\n",
       "  </tbody>\n",
       "</table>\n",
       "<p>1338 rows × 7 columns</p>\n",
       "</div>"
      ],
      "text/plain": [
       "      age     sex     bmi  children smoker     region      charges\n",
       "0      19  female  27.900         0    yes  southwest  16884.92400\n",
       "1      18    male  33.770         1     no  southeast   1725.55230\n",
       "2      28    male  33.000         3     no  southeast   4449.46200\n",
       "3      33    male  22.705         0     no  northwest  21984.47061\n",
       "4      32    male  28.880         0     no  northwest   3866.85520\n",
       "...   ...     ...     ...       ...    ...        ...          ...\n",
       "1333   50    male  30.970         3     no  northwest  10600.54830\n",
       "1334   18  female  31.920         0     no  northeast   2205.98080\n",
       "1335   18  female  36.850         0     no  southeast   1629.83350\n",
       "1336   21  female  25.800         0     no  southwest   2007.94500\n",
       "1337   61  female  29.070         0    yes  northwest  29141.36030\n",
       "\n",
       "[1338 rows x 7 columns]"
      ]
     },
     "execution_count": 52,
     "metadata": {},
     "output_type": "execute_result"
    }
   ],
   "source": [
    "insurance"
   ]
  },
  {
   "cell_type": "code",
   "execution_count": 54,
   "metadata": {},
   "outputs": [],
   "source": [
    "from sklearn.compose import make_column_transformer\n",
    "from sklearn.preprocessing import MinMaxScaler, OneHotEncoder\n",
    "\n",
    "ct = make_column_transformer(\n",
    "    (MinMaxScaler(), ['age','bmi','children']),\n",
    "    (OneHotEncoder(handle_unknown='ignore'), ['sex','smoker','region'])\n",
    ")\n",
    "\n",
    "X = insurance.drop('charges', axis=1)\n",
    "y = insurance['charges']\n",
    "\n",
    "X_train, X_test, y_train, y_test = train_test_split(X,y, test_size=0.2, random_state=42)"
   ]
  },
  {
   "cell_type": "code",
   "execution_count": 56,
   "metadata": {},
   "outputs": [],
   "source": [
    "ct.fit(X_train)\n",
    "\n",
    "X_train_normal = ct.transform(X_train)\n",
    "X_test_normal = ct.transform(X_test)\n",
    "\n",
    "X_train_normal = tf.convert_to_tensor(X_train_normal, dtype=tf.float32)\n",
    "X_test_normal = tf.convert_to_tensor(X_test_normal, dtype=tf.float32)\n",
    "y_train = tf.convert_to_tensor(y_train, dtype=tf.float32)\n",
    "y_test = tf.convert_to_tensor(y_test, dtype=tf.float32)"
   ]
  },
  {
   "cell_type": "code",
   "execution_count": 60,
   "metadata": {},
   "outputs": [
    {
     "data": {
      "text/plain": [
       "<tf.Tensor: shape=(11,), dtype=float32, numpy=\n",
       "array([0.6086956 , 0.10734463, 0.4       , 1.        , 0.        ,\n",
       "       1.        , 0.        , 0.        , 1.        , 0.        ,\n",
       "       0.        ], dtype=float32)>"
      ]
     },
     "execution_count": 60,
     "metadata": {},
     "output_type": "execute_result"
    }
   ],
   "source": [
    "X_train_normal[0]"
   ]
  },
  {
   "cell_type": "code",
   "execution_count": 61,
   "metadata": {},
   "outputs": [
    {
     "name": "stdout",
     "output_type": "stream",
     "text": [
      "9/9 [==============================] - 0s 2ms/step - loss: 3160.5554 - mae: 3160.5554\n"
     ]
    },
    {
     "data": {
      "text/plain": [
       "[3160.555419921875, 3160.555419921875]"
      ]
     },
     "execution_count": 61,
     "metadata": {},
     "output_type": "execute_result"
    }
   ],
   "source": [
    "tf.random.set_seed(42)\n",
    "\n",
    "callback_norm= tf.keras.callbacks.EarlyStopping(monitor='loss',\n",
    "                                             patience=50)\n",
    "\n",
    "insurance_model_norm = tf.keras.Sequential([\n",
    "    tf.keras.layers.Dense(100),\n",
    "    tf.keras.layers.Dense(10),\n",
    "    tf.keras.layers.Dense(1)\n",
    "])\n",
    "\n",
    "insurance_model_norm.compile(loss=tf.keras.losses.mae,\n",
    "                             optimizer=tf.keras.optimizers.Adam(learning_rate=0.001),\n",
    "                             metrics=['mae'])\n",
    "history = insurance_model_norm.fit(X_train_normal, y_train, epochs=1500, verbose=0, callbacks=[callback_norm])\n",
    "\n",
    "insurance_model_norm.evaluate(X_test_normal, y_test)\n"
   ]
  },
  {
   "cell_type": "code",
   "execution_count": 62,
   "metadata": {},
   "outputs": [
    {
     "data": {
      "text/plain": [
       "Text(0.5, 0, 'epochs')"
      ]
     },
     "execution_count": 62,
     "metadata": {},
     "output_type": "execute_result"
    },
    {
     "data": {
      "image/png": "[encoded data removed]",
      "text/plain": [
       "<Figure size 640x480 with 1 Axes>"
      ]
     },
     "metadata": {},
     "output_type": "display_data"
    }
   ],
   "source": [
    "pd.DataFrame(history.history).plot()\n",
    "plt.ylabel('loss')\n",
    "plt.xlabel('epochs')"
   ]
  }
 ],
 "metadata": {
  "kernelspec": {
   "display_name": "Python 3 (ipykernel)",
   "language": "python",
   "name": "python3"
  }
 },
 "nbformat": 4,
 "nbformat_minor": 2
}

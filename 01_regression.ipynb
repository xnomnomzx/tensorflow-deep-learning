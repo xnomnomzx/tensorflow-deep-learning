{
 "cells": [
  {
   "cell_type": "code",
   "execution_count": 2,
   "metadata": {},
   "outputs": [
    {
     "name": "stdout",
     "output_type": "stream",
     "text": [
      "2.15.0\n"
     ]
    }
   ],
   "source": [
    "import tensorflow as tf\n",
    "print(tf.__version__)"
   ]
  },
  {
   "cell_type": "code",
   "execution_count": 3,
   "metadata": {},
   "outputs": [
    {
     "data": {
      "text/plain": [
       "<matplotlib.collections.PathCollection at 0x7f145a9abe50>"
      ]
     },
     "execution_count": 3,
     "metadata": {},
     "output_type": "execute_result"
    },
    {
     "data": {
      "image/png": "[encoded data removed]",
      "text/plain": [
       "<Figure size 640x480 with 1 Axes>"
      ]
     },
     "metadata": {},
     "output_type": "display_data"
    }
   ],
   "source": [
    "import numpy as np\n",
    "import matplotlib.pyplot as plt\n",
    "\n",
    "x = np.array([-7.0, -4.0, -1.0, 2.0, 5.0, 8.0, 11.0, 14.0])\n",
    "\n",
    "y = np.array([3.0, 6.0, 9.0, 12.0, 15.0, 18.0, 21.0, 24.0])\n",
    "\n",
    "plt.scatter(x,y)"
   ]
  },
  {
   "cell_type": "code",
   "execution_count": 4,
   "metadata": {},
   "outputs": [
    {
     "data": {
      "text/plain": [
       "array([ True,  True,  True,  True,  True,  True,  True,  True])"
      ]
     },
     "execution_count": 4,
     "metadata": {},
     "output_type": "execute_result"
    }
   ],
   "source": [
    "y == x + 10"
   ]
  },
  {
   "cell_type": "markdown",
   "metadata": {},
   "source": [
    "## Input and output shapes"
   ]
  },
  {
   "cell_type": "code",
   "execution_count": 5,
   "metadata": {},
   "outputs": [
    {
     "name": "stderr",
     "output_type": "stream",
     "text": [
      "2024-02-12 23:01:23.295102: I external/local_xla/xla/stream_executor/cuda/cuda_executor.cc:887] could not open file to read NUMA node: /sys/bus/pci/devices/0000:01:00.0/numa_node\n",
      "Your kernel may have been built without NUMA support.\n",
      "2024-02-12 23:01:23.370469: I external/local_xla/xla/stream_executor/cuda/cuda_executor.cc:887] could not open file to read NUMA node: /sys/bus/pci/devices/0000:01:00.0/numa_node\n",
      "Your kernel may have been built without NUMA support.\n",
      "2024-02-12 23:01:23.370509: I external/local_xla/xla/stream_executor/cuda/cuda_executor.cc:887] could not open file to read NUMA node: /sys/bus/pci/devices/0000:01:00.0/numa_node\n",
      "Your kernel may have been built without NUMA support.\n",
      "2024-02-12 23:01:23.373535: I external/local_xla/xla/stream_executor/cuda/cuda_executor.cc:887] could not open file to read NUMA node: /sys/bus/pci/devices/0000:01:00.0/numa_node\n",
      "Your kernel may have been built without NUMA support.\n",
      "2024-02-12 23:01:23.373645: I external/local_xla/xla/stream_executor/cuda/cuda_executor.cc:887] could not open file to read NUMA node: /sys/bus/pci/devices/0000:01:00.0/numa_node\n",
      "Your kernel may have been built without NUMA support.\n",
      "2024-02-12 23:01:23.373723: I external/local_xla/xla/stream_executor/cuda/cuda_executor.cc:887] could not open file to read NUMA node: /sys/bus/pci/devices/0000:01:00.0/numa_node\n",
      "Your kernel may have been built without NUMA support.\n",
      "2024-02-12 23:01:23.630635: I external/local_xla/xla/stream_executor/cuda/cuda_executor.cc:887] could not open file to read NUMA node: /sys/bus/pci/devices/0000:01:00.0/numa_node\n",
      "Your kernel may have been built without NUMA support.\n",
      "2024-02-12 23:01:23.630703: I external/local_xla/xla/stream_executor/cuda/cuda_executor.cc:887] could not open file to read NUMA node: /sys/bus/pci/devices/0000:01:00.0/numa_node\n",
      "Your kernel may have been built without NUMA support.\n",
      "2024-02-12 23:01:23.630711: I tensorflow/core/common_runtime/gpu/gpu_device.cc:2022] Could not identify NUMA node of platform GPU id 0, defaulting to 0.  Your kernel may not have been built with NUMA support.\n",
      "2024-02-12 23:01:23.630751: I external/local_xla/xla/stream_executor/cuda/cuda_executor.cc:887] could not open file to read NUMA node: /sys/bus/pci/devices/0000:01:00.0/numa_node\n",
      "Your kernel may have been built without NUMA support.\n",
      "2024-02-12 23:01:23.630777: I tensorflow/core/common_runtime/gpu/gpu_device.cc:1929] Created device /job:localhost/replica:0/task:0/device:GPU:0 with 9511 MB memory:  -> device: 0, name: NVIDIA GeForce RTX 4080 Laptop GPU, pci bus id: 0000:01:00.0, compute capability: 8.9\n"
     ]
    },
    {
     "data": {
      "text/plain": [
       "(<tf.Tensor: shape=(3,), dtype=string, numpy=array([b'bedroom', b'bathroom', b'garage'], dtype=object)>,\n",
       " <tf.Tensor: shape=(1,), dtype=int32, numpy=array([939700], dtype=int32)>)"
      ]
     },
     "execution_count": 5,
     "metadata": {},
     "output_type": "execute_result"
    }
   ],
   "source": [
    "house_info = tf.constant(['bedroom', 'bathroom', 'garage'])\n",
    "house_price = tf.constant([939700])\n",
    "house_info, house_price"
   ]
  },
  {
   "cell_type": "code",
   "execution_count": 6,
   "metadata": {},
   "outputs": [
    {
     "data": {
      "text/plain": [
       "((), ())"
      ]
     },
     "execution_count": 6,
     "metadata": {},
     "output_type": "execute_result"
    }
   ],
   "source": [
    "input_shape = x[0].shape\n",
    "output_shape = y[0].shape\n",
    "input_shape, output_shape"
   ]
  },
  {
   "cell_type": "code",
   "execution_count": 7,
   "metadata": {},
   "outputs": [
    {
     "data": {
      "text/plain": [
       "(<tf.Tensor: shape=(8,), dtype=float64, numpy=array([-7., -4., -1.,  2.,  5.,  8., 11., 14.])>,\n",
       " <tf.Tensor: shape=(8,), dtype=float64, numpy=array([ 3.,  6.,  9., 12., 15., 18., 21., 24.])>)"
      ]
     },
     "execution_count": 7,
     "metadata": {},
     "output_type": "execute_result"
    }
   ],
   "source": [
    "X = tf.constant(x)\n",
    "y = tf.constant(y)\n",
    "X,y"
   ]
  },
  {
   "cell_type": "code",
   "execution_count": 8,
   "metadata": {},
   "outputs": [
    {
     "data": {
      "text/plain": [
       "(TensorShape([]), TensorShape([]))"
      ]
     },
     "execution_count": 8,
     "metadata": {},
     "output_type": "execute_result"
    }
   ],
   "source": [
    "input_shape = X[0].shape\n",
    "output_shape = y[0].shape\n",
    "input_shape, output_shape"
   ]
  },
  {
   "cell_type": "code",
   "execution_count": 9,
   "metadata": {},
   "outputs": [
    {
     "name": "stdout",
     "output_type": "stream",
     "text": [
      "Epoch 1/25\n",
      "1/1 [==============================] - 1s 655ms/step - loss: 13.0577 - mae: 13.0577\n",
      "Epoch 2/25\n",
      "1/1 [==============================] - 0s 8ms/step - loss: 12.9252 - mae: 12.9252\n"
     ]
    },
    {
     "name": "stderr",
     "output_type": "stream",
     "text": [
      "2024-02-12 23:01:24.688701: W external/local_xla/xla/stream_executor/gpu/asm_compiler.cc:225] Falling back to the CUDA driver for PTX compilation; ptxas does not support CC 8.9\n",
      "2024-02-12 23:01:24.688776: W external/local_xla/xla/stream_executor/gpu/asm_compiler.cc:228] Used ptxas at ptxas\n",
      "2024-02-12 23:01:24.688860: W tensorflow/compiler/mlir/tools/kernel_gen/transforms/gpu_kernel_to_blob_pass.cc:191] Failed to compile generated PTX with ptxas. Falling back to compilation by driver.\n",
      "2024-02-12 23:01:24.774601: I external/local_xla/xla/service/service.cc:168] XLA service 0x7f13513ca830 initialized for platform CUDA (this does not guarantee that XLA will be used). Devices:\n",
      "2024-02-12 23:01:24.774648: I external/local_xla/xla/service/service.cc:176]   StreamExecutor device (0): NVIDIA GeForce RTX 4080 Laptop GPU, Compute Capability 8.9\n",
      "2024-02-12 23:01:24.811306: I external/local_xla/xla/stream_executor/cuda/cuda_dnn.cc:454] Loaded cuDNN version 8904\n",
      "2024-02-12 23:01:24.830094: W external/local_xla/xla/service/gpu/nvptx_compiler.cc:408] Couldn't read CUDA driver version.\n",
      "WARNING: All log messages before absl::InitializeLog() is called are written to STDERR\n",
      "I0000 00:00:1707800484.844221     834 device_compiler.h:186] Compiled cluster using XLA!  This line is logged at most once for the lifetime of the process.\n"
     ]
    },
    {
     "name": "stdout",
     "output_type": "stream",
     "text": [
      "Epoch 3/25\n",
      "1/1 [==============================] - 0s 10ms/step - loss: 12.7927 - mae: 12.7927\n",
      "Epoch 4/25\n",
      "1/1 [==============================] - 0s 9ms/step - loss: 12.6602 - mae: 12.6602\n",
      "Epoch 5/25\n",
      "1/1 [==============================] - 0s 8ms/step - loss: 12.5277 - mae: 12.5277\n",
      "Epoch 6/25\n",
      "1/1 [==============================] - 0s 8ms/step - loss: 12.3952 - mae: 12.3952\n",
      "Epoch 7/25\n",
      "1/1 [==============================] - 0s 8ms/step - loss: 12.2627 - mae: 12.2627\n",
      "Epoch 8/25\n",
      "1/1 [==============================] - 0s 8ms/step - loss: 12.1302 - mae: 12.1302\n",
      "Epoch 9/25\n",
      "1/1 [==============================] - 0s 9ms/step - loss: 11.9977 - mae: 11.9977\n",
      "Epoch 10/25\n",
      "1/1 [==============================] - 0s 8ms/step - loss: 11.8652 - mae: 11.8652\n",
      "Epoch 11/25\n",
      "1/1 [==============================] - 0s 9ms/step - loss: 11.7327 - mae: 11.7327\n",
      "Epoch 12/25\n",
      "1/1 [==============================] - 0s 9ms/step - loss: 11.6002 - mae: 11.6002\n",
      "Epoch 13/25\n",
      "1/1 [==============================] - 0s 9ms/step - loss: 11.4677 - mae: 11.4677\n",
      "Epoch 14/25\n",
      "1/1 [==============================] - 0s 11ms/step - loss: 11.3352 - mae: 11.3352\n",
      "Epoch 15/25\n",
      "1/1 [==============================] - 0s 10ms/step - loss: 11.2027 - mae: 11.2027\n",
      "Epoch 16/25\n",
      "1/1 [==============================] - 0s 9ms/step - loss: 11.0702 - mae: 11.0702\n",
      "Epoch 17/25\n",
      "1/1 [==============================] - 0s 8ms/step - loss: 10.9377 - mae: 10.9377\n",
      "Epoch 18/25\n",
      "1/1 [==============================] - 0s 8ms/step - loss: 10.8052 - mae: 10.8052\n",
      "Epoch 19/25\n",
      "1/1 [==============================] - 0s 8ms/step - loss: 10.6727 - mae: 10.6727\n",
      "Epoch 20/25\n",
      "1/1 [==============================] - 0s 9ms/step - loss: 10.5402 - mae: 10.5402\n",
      "Epoch 21/25\n",
      "1/1 [==============================] - 0s 10ms/step - loss: 10.4077 - mae: 10.4077\n",
      "Epoch 22/25\n",
      "1/1 [==============================] - 0s 10ms/step - loss: 10.2752 - mae: 10.2752\n",
      "Epoch 23/25\n",
      "1/1 [==============================] - 0s 11ms/step - loss: 10.1427 - mae: 10.1427\n",
      "Epoch 24/25\n",
      "1/1 [==============================] - 0s 8ms/step - loss: 10.0102 - mae: 10.0102\n",
      "Epoch 25/25\n",
      "1/1 [==============================] - 0s 9ms/step - loss: 9.8777 - mae: 9.8777\n"
     ]
    },
    {
     "data": {
      "text/plain": [
       "<keras.src.callbacks.History at 0x7f14587166b0>"
      ]
     },
     "execution_count": 9,
     "metadata": {},
     "output_type": "execute_result"
    }
   ],
   "source": [
    "tf.random.set_seed(42)\n",
    "model = tf.keras.Sequential()\n",
    "model.add(tf.keras.layers.Dense(1))\n",
    "\n",
    "model.compile(loss=tf.keras.losses.mae,\n",
    "              optimizer=tf.keras.optimizers.SGD(),\n",
    "              metrics=['mae'])\n",
    "\n",
    "model.fit(tf.expand_dims(X, axis=-1), y, epochs=25)"
   ]
  },
  {
   "cell_type": "code",
   "execution_count": 10,
   "metadata": {},
   "outputs": [
    {
     "name": "stdout",
     "output_type": "stream",
     "text": [
      "1/1 [==============================] - 0s 80ms/step\n"
     ]
    },
    {
     "data": {
      "text/plain": [
       "array([[17.273455]], dtype=float32)"
      ]
     },
     "execution_count": 10,
     "metadata": {},
     "output_type": "execute_result"
    }
   ],
   "source": [
    "y_pred = model.predict([17.0])\n",
    "y_pred"
   ]
  },
  {
   "cell_type": "code",
   "execution_count": 11,
   "metadata": {},
   "outputs": [
    {
     "name": "stdout",
     "output_type": "stream",
     "text": [
      "Epoch 1/100\n",
      "1/1 [==============================] - 0s 260ms/step - loss: 14.8573 - mae: 14.8573\n",
      "Epoch 2/100\n",
      "1/1 [==============================] - 0s 8ms/step - loss: 14.7248 - mae: 14.7248\n",
      "Epoch 3/100\n",
      "1/1 [==============================] - 0s 8ms/step - loss: 14.5923 - mae: 14.5923\n",
      "Epoch 4/100\n",
      "1/1 [==============================] - 0s 7ms/step - loss: 14.4598 - mae: 14.4598\n",
      "Epoch 5/100\n",
      "1/1 [==============================] - 0s 8ms/step - loss: 14.3273 - mae: 14.3273\n",
      "Epoch 6/100\n",
      "1/1 [==============================] - 0s 8ms/step - loss: 14.1948 - mae: 14.1948\n",
      "Epoch 7/100\n",
      "1/1 [==============================] - 0s 7ms/step - loss: 14.0623 - mae: 14.0623\n",
      "Epoch 8/100\n",
      "1/1 [==============================] - 0s 8ms/step - loss: 13.9298 - mae: 13.9298\n",
      "Epoch 9/100\n",
      "1/1 [==============================] - 0s 11ms/step - loss: 13.7973 - mae: 13.7973\n",
      "Epoch 10/100\n",
      "1/1 [==============================] - 0s 11ms/step - loss: 13.6648 - mae: 13.6648\n",
      "Epoch 11/100\n",
      "1/1 [==============================] - 0s 8ms/step - loss: 13.5323 - mae: 13.5323\n",
      "Epoch 12/100\n",
      "1/1 [==============================] - 0s 7ms/step - loss: 13.3998 - mae: 13.3998\n",
      "Epoch 13/100\n",
      "1/1 [==============================] - 0s 8ms/step - loss: 13.2673 - mae: 13.2673\n",
      "Epoch 14/100\n",
      "1/1 [==============================] - 0s 9ms/step - loss: 13.1348 - mae: 13.1348\n",
      "Epoch 15/100\n",
      "1/1 [==============================] - 0s 10ms/step - loss: 13.0023 - mae: 13.0023\n",
      "Epoch 16/100\n",
      "1/1 [==============================] - 0s 7ms/step - loss: 12.8698 - mae: 12.8698\n",
      "Epoch 17/100\n",
      "1/1 [==============================] - 0s 8ms/step - loss: 12.7373 - mae: 12.7373\n",
      "Epoch 18/100\n",
      "1/1 [==============================] - 0s 8ms/step - loss: 12.6048 - mae: 12.6048\n",
      "Epoch 19/100\n",
      "1/1 [==============================] - 0s 9ms/step - loss: 12.4723 - mae: 12.4723\n",
      "Epoch 20/100\n",
      "1/1 [==============================] - 0s 8ms/step - loss: 12.3398 - mae: 12.3398\n",
      "Epoch 21/100\n",
      "1/1 [==============================] - 0s 9ms/step - loss: 12.2073 - mae: 12.2073\n",
      "Epoch 22/100\n",
      "1/1 [==============================] - 0s 8ms/step - loss: 12.0748 - mae: 12.0748\n",
      "Epoch 23/100\n",
      "1/1 [==============================] - 0s 9ms/step - loss: 11.9423 - mae: 11.9423\n",
      "Epoch 24/100\n",
      "1/1 [==============================] - 0s 8ms/step - loss: 11.8098 - mae: 11.8098\n",
      "Epoch 25/100\n",
      "1/1 [==============================] - 0s 7ms/step - loss: 11.6773 - mae: 11.6773\n",
      "Epoch 26/100\n",
      "1/1 [==============================] - 0s 8ms/step - loss: 11.5448 - mae: 11.5448\n",
      "Epoch 27/100\n",
      "1/1 [==============================] - 0s 9ms/step - loss: 11.4123 - mae: 11.4123\n",
      "Epoch 28/100\n",
      "1/1 [==============================] - 0s 10ms/step - loss: 11.2798 - mae: 11.2798\n",
      "Epoch 29/100\n",
      "1/1 [==============================] - 0s 8ms/step - loss: 11.1473 - mae: 11.1473\n",
      "Epoch 30/100\n",
      "1/1 [==============================] - 0s 8ms/step - loss: 11.0148 - mae: 11.0148\n",
      "Epoch 31/100\n",
      "1/1 [==============================] - 0s 8ms/step - loss: 10.8823 - mae: 10.8823\n",
      "Epoch 32/100\n",
      "1/1 [==============================] - 0s 8ms/step - loss: 10.7498 - mae: 10.7498\n",
      "Epoch 33/100\n",
      "1/1 [==============================] - 0s 7ms/step - loss: 10.6173 - mae: 10.6173\n",
      "Epoch 34/100\n",
      "1/1 [==============================] - 0s 9ms/step - loss: 10.4848 - mae: 10.4848\n",
      "Epoch 35/100\n",
      "1/1 [==============================] - 0s 8ms/step - loss: 10.3523 - mae: 10.3523\n",
      "Epoch 36/100\n",
      "1/1 [==============================] - 0s 9ms/step - loss: 10.2198 - mae: 10.2198\n",
      "Epoch 37/100\n",
      "1/1 [==============================] - 0s 11ms/step - loss: 10.0873 - mae: 10.0873\n",
      "Epoch 38/100\n",
      "1/1 [==============================] - 0s 10ms/step - loss: 9.9548 - mae: 9.9548\n",
      "Epoch 39/100\n",
      "1/1 [==============================] - 0s 7ms/step - loss: 9.8223 - mae: 9.8223\n",
      "Epoch 40/100\n",
      "1/1 [==============================] - 0s 9ms/step - loss: 9.6898 - mae: 9.6898\n",
      "Epoch 41/100\n",
      "1/1 [==============================] - 0s 7ms/step - loss: 9.5573 - mae: 9.5573\n",
      "Epoch 42/100\n",
      "1/1 [==============================] - 0s 9ms/step - loss: 9.4248 - mae: 9.4248\n",
      "Epoch 43/100\n",
      "1/1 [==============================] - 0s 8ms/step - loss: 9.2923 - mae: 9.2923\n",
      "Epoch 44/100\n",
      "1/1 [==============================] - 0s 9ms/step - loss: 9.1598 - mae: 9.1598\n",
      "Epoch 45/100\n",
      "1/1 [==============================] - 0s 9ms/step - loss: 9.0273 - mae: 9.0273\n",
      "Epoch 46/100\n",
      "1/1 [==============================] - 0s 9ms/step - loss: 8.8948 - mae: 8.8948\n",
      "Epoch 47/100\n",
      "1/1 [==============================] - 0s 10ms/step - loss: 8.7623 - mae: 8.7623\n",
      "Epoch 48/100\n",
      "1/1 [==============================] - 0s 9ms/step - loss: 8.6298 - mae: 8.6298\n",
      "Epoch 49/100\n",
      "1/1 [==============================] - 0s 7ms/step - loss: 8.4973 - mae: 8.4973\n",
      "Epoch 50/100\n",
      "1/1 [==============================] - 0s 9ms/step - loss: 8.3648 - mae: 8.3648\n",
      "Epoch 51/100\n",
      "1/1 [==============================] - 0s 8ms/step - loss: 8.2323 - mae: 8.2323\n",
      "Epoch 52/100\n",
      "1/1 [==============================] - 0s 8ms/step - loss: 8.0998 - mae: 8.0998\n",
      "Epoch 53/100\n",
      "1/1 [==============================] - 0s 8ms/step - loss: 7.9673 - mae: 7.9673\n",
      "Epoch 54/100\n",
      "1/1 [==============================] - 0s 9ms/step - loss: 7.8348 - mae: 7.8348\n",
      "Epoch 55/100\n",
      "1/1 [==============================] - 0s 8ms/step - loss: 7.7023 - mae: 7.7023\n",
      "Epoch 56/100\n",
      "1/1 [==============================] - 0s 9ms/step - loss: 7.5698 - mae: 7.5698\n",
      "Epoch 57/100\n",
      "1/1 [==============================] - 0s 9ms/step - loss: 7.4373 - mae: 7.4373\n",
      "Epoch 58/100\n",
      "1/1 [==============================] - 0s 8ms/step - loss: 7.3048 - mae: 7.3048\n",
      "Epoch 59/100\n",
      "1/1 [==============================] - 0s 10ms/step - loss: 7.1723 - mae: 7.1723\n",
      "Epoch 60/100\n",
      "1/1 [==============================] - 0s 8ms/step - loss: 7.0575 - mae: 7.0575\n",
      "Epoch 61/100\n",
      "1/1 [==============================] - 0s 8ms/step - loss: 7.0519 - mae: 7.0519\n",
      "Epoch 62/100\n",
      "1/1 [==============================] - 0s 7ms/step - loss: 7.0463 - mae: 7.0463\n",
      "Epoch 63/100\n",
      "1/1 [==============================] - 0s 9ms/step - loss: 7.0406 - mae: 7.0406\n",
      "Epoch 64/100\n",
      "1/1 [==============================] - 0s 7ms/step - loss: 7.0350 - mae: 7.0350\n",
      "Epoch 65/100\n",
      "1/1 [==============================] - 0s 8ms/step - loss: 7.0294 - mae: 7.0294\n",
      "Epoch 66/100\n",
      "1/1 [==============================] - 0s 10ms/step - loss: 7.0238 - mae: 7.0238\n",
      "Epoch 67/100\n",
      "1/1 [==============================] - 0s 10ms/step - loss: 7.0181 - mae: 7.0181\n",
      "Epoch 68/100\n",
      "1/1 [==============================] - 0s 7ms/step - loss: 7.0125 - mae: 7.0125\n",
      "Epoch 69/100\n",
      "1/1 [==============================] - 0s 8ms/step - loss: 7.0069 - mae: 7.0069\n",
      "Epoch 70/100\n",
      "1/1 [==============================] - 0s 8ms/step - loss: 7.0013 - mae: 7.0013\n",
      "Epoch 71/100\n",
      "1/1 [==============================] - 0s 7ms/step - loss: 6.9956 - mae: 6.9956\n",
      "Epoch 72/100\n",
      "1/1 [==============================] - 0s 8ms/step - loss: 6.9900 - mae: 6.9900\n",
      "Epoch 73/100\n",
      "1/1 [==============================] - 0s 9ms/step - loss: 6.9844 - mae: 6.9844\n",
      "Epoch 74/100\n",
      "1/1 [==============================] - 0s 8ms/step - loss: 6.9788 - mae: 6.9788\n",
      "Epoch 75/100\n",
      "1/1 [==============================] - 0s 8ms/step - loss: 6.9731 - mae: 6.9731\n",
      "Epoch 76/100\n",
      "1/1 [==============================] - 0s 8ms/step - loss: 6.9675 - mae: 6.9675\n",
      "Epoch 77/100\n",
      "1/1 [==============================] - 0s 8ms/step - loss: 6.9619 - mae: 6.9619\n",
      "Epoch 78/100\n",
      "1/1 [==============================] - 0s 8ms/step - loss: 6.9563 - mae: 6.9563\n",
      "Epoch 79/100\n",
      "1/1 [==============================] - 0s 8ms/step - loss: 6.9506 - mae: 6.9506\n",
      "Epoch 80/100\n",
      "1/1 [==============================] - 0s 7ms/step - loss: 6.9450 - mae: 6.9450\n",
      "Epoch 81/100\n",
      "1/1 [==============================] - 0s 8ms/step - loss: 6.9394 - mae: 6.9394\n",
      "Epoch 82/100\n",
      "1/1 [==============================] - 0s 9ms/step - loss: 6.9338 - mae: 6.9338\n",
      "Epoch 83/100\n",
      "1/1 [==============================] - 0s 8ms/step - loss: 6.9281 - mae: 6.9281\n",
      "Epoch 84/100\n",
      "1/1 [==============================] - 0s 7ms/step - loss: 6.9225 - mae: 6.9225\n",
      "Epoch 85/100\n",
      "1/1 [==============================] - 0s 9ms/step - loss: 6.9169 - mae: 6.9169\n",
      "Epoch 86/100\n",
      "1/1 [==============================] - 0s 7ms/step - loss: 6.9113 - mae: 6.9113\n",
      "Epoch 87/100\n",
      "1/1 [==============================] - 0s 9ms/step - loss: 6.9056 - mae: 6.9056\n",
      "Epoch 88/100\n",
      "1/1 [==============================] - 0s 7ms/step - loss: 6.9000 - mae: 6.9000\n",
      "Epoch 89/100\n",
      "1/1 [==============================] - 0s 8ms/step - loss: 6.8944 - mae: 6.8944\n",
      "Epoch 90/100\n",
      "1/1 [==============================] - 0s 7ms/step - loss: 6.8888 - mae: 6.8888\n",
      "Epoch 91/100\n",
      "1/1 [==============================] - 0s 9ms/step - loss: 6.8831 - mae: 6.8831\n",
      "Epoch 92/100\n",
      "1/1 [==============================] - 0s 11ms/step - loss: 6.8775 - mae: 6.8775\n",
      "Epoch 93/100\n",
      "1/1 [==============================] - 0s 11ms/step - loss: 6.8719 - mae: 6.8719\n",
      "Epoch 94/100\n",
      "1/1 [==============================] - 0s 8ms/step - loss: 6.8663 - mae: 6.8663\n",
      "Epoch 95/100\n",
      "1/1 [==============================] - 0s 7ms/step - loss: 6.8606 - mae: 6.8606\n",
      "Epoch 96/100\n",
      "1/1 [==============================] - 0s 7ms/step - loss: 6.8550 - mae: 6.8550\n",
      "Epoch 97/100\n",
      "1/1 [==============================] - 0s 8ms/step - loss: 6.8494 - mae: 6.8494\n",
      "Epoch 98/100\n",
      "1/1 [==============================] - 0s 9ms/step - loss: 6.8438 - mae: 6.8438\n",
      "Epoch 99/100\n",
      "1/1 [==============================] - 0s 9ms/step - loss: 6.8381 - mae: 6.8381\n",
      "Epoch 100/100\n",
      "1/1 [==============================] - 0s 10ms/step - loss: 6.8325 - mae: 6.8325\n"
     ]
    },
    {
     "data": {
      "text/plain": [
       "<keras.src.callbacks.History at 0x7f14564cfc70>"
      ]
     },
     "execution_count": 11,
     "metadata": {},
     "output_type": "execute_result"
    }
   ],
   "source": [
    "model = tf.keras.Sequential()\n",
    "model.add(tf.keras.layers.Dense(1))\n",
    "\n",
    "model.compile(loss=tf.keras.losses.mae,\n",
    "              optimizer=tf.keras.optimizers.SGD(),\n",
    "              metrics=['mae'])\n",
    "\n",
    "model.fit(tf.expand_dims(X, axis=-1), y, epochs=100)"
   ]
  },
  {
   "cell_type": "code",
   "execution_count": 12,
   "metadata": {},
   "outputs": [
    {
     "name": "stdout",
     "output_type": "stream",
     "text": [
      "1/1 [==============================] - 0s 51ms/step\n"
     ]
    },
    {
     "data": {
      "text/plain": [
       "array([[29.409975]], dtype=float32)"
      ]
     },
     "execution_count": 12,
     "metadata": {},
     "output_type": "execute_result"
    }
   ],
   "source": [
    "model.predict([17.0])"
   ]
  },
  {
   "cell_type": "code",
   "execution_count": 34,
   "metadata": {},
   "outputs": [
    {
     "name": "stdout",
     "output_type": "stream",
     "text": [
      "Epoch 1/100\n",
      "1/1 [==============================] - 1s 555ms/step - loss: 12.9038 - mae: 12.9038\n",
      "Epoch 2/100\n",
      "1/1 [==============================] - 0s 11ms/step - loss: 12.8232 - mae: 12.8232\n",
      "Epoch 3/100\n",
      "1/1 [==============================] - 0s 9ms/step - loss: 12.7425 - mae: 12.7425\n",
      "Epoch 4/100\n",
      "1/1 [==============================] - 0s 10ms/step - loss: 12.6616 - mae: 12.6616\n",
      "Epoch 5/100\n",
      "1/1 [==============================] - 0s 12ms/step - loss: 12.5815 - mae: 12.5815\n",
      "Epoch 6/100\n",
      "1/1 [==============================] - 0s 11ms/step - loss: 12.5015 - mae: 12.5015\n",
      "Epoch 7/100\n",
      "1/1 [==============================] - 0s 11ms/step - loss: 12.4214 - mae: 12.4214\n",
      "Epoch 8/100\n",
      "1/1 [==============================] - 0s 9ms/step - loss: 12.3411 - mae: 12.3411\n",
      "Epoch 9/100\n",
      "1/1 [==============================] - 0s 8ms/step - loss: 12.2606 - mae: 12.2606\n",
      "Epoch 10/100\n",
      "1/1 [==============================] - 0s 13ms/step - loss: 12.1800 - mae: 12.1800\n",
      "Epoch 11/100\n",
      "1/1 [==============================] - 0s 9ms/step - loss: 12.0994 - mae: 12.0994\n",
      "Epoch 12/100\n",
      "1/1 [==============================] - 0s 11ms/step - loss: 12.0193 - mae: 12.0193\n",
      "Epoch 13/100\n",
      "1/1 [==============================] - 0s 10ms/step - loss: 11.9393 - mae: 11.9393\n",
      "Epoch 14/100\n",
      "1/1 [==============================] - 0s 11ms/step - loss: 11.8591 - mae: 11.8591\n",
      "Epoch 15/100\n",
      "1/1 [==============================] - 0s 10ms/step - loss: 11.7786 - mae: 11.7786\n",
      "Epoch 16/100\n",
      "1/1 [==============================] - 0s 10ms/step - loss: 11.6978 - mae: 11.6978\n",
      "Epoch 17/100\n",
      "1/1 [==============================] - 0s 11ms/step - loss: 11.6168 - mae: 11.6168\n",
      "Epoch 18/100\n",
      "1/1 [==============================] - 0s 9ms/step - loss: 11.5355 - mae: 11.5355\n",
      "Epoch 19/100\n",
      "1/1 [==============================] - 0s 9ms/step - loss: 11.4539 - mae: 11.4539\n",
      "Epoch 20/100\n",
      "1/1 [==============================] - 0s 10ms/step - loss: 11.3721 - mae: 11.3721\n",
      "Epoch 21/100\n",
      "1/1 [==============================] - 0s 9ms/step - loss: 11.2900 - mae: 11.2900\n",
      "Epoch 22/100\n",
      "1/1 [==============================] - 0s 11ms/step - loss: 11.2077 - mae: 11.2077\n",
      "Epoch 23/100\n",
      "1/1 [==============================] - 0s 10ms/step - loss: 11.1251 - mae: 11.1251\n",
      "Epoch 24/100\n",
      "1/1 [==============================] - 0s 9ms/step - loss: 11.0421 - mae: 11.0421\n",
      "Epoch 25/100\n",
      "1/1 [==============================] - 0s 8ms/step - loss: 10.9588 - mae: 10.9588\n",
      "Epoch 26/100\n",
      "1/1 [==============================] - 0s 9ms/step - loss: 10.8751 - mae: 10.8751\n",
      "Epoch 27/100\n",
      "1/1 [==============================] - 0s 11ms/step - loss: 10.7910 - mae: 10.7910\n",
      "Epoch 28/100\n",
      "1/1 [==============================] - 0s 10ms/step - loss: 10.7066 - mae: 10.7066\n",
      "Epoch 29/100\n",
      "1/1 [==============================] - 0s 18ms/step - loss: 10.6218 - mae: 10.6218\n",
      "Epoch 30/100\n",
      "1/1 [==============================] - 0s 14ms/step - loss: 10.5424 - mae: 10.5424\n",
      "Epoch 31/100\n",
      "1/1 [==============================] - 0s 9ms/step - loss: 10.4808 - mae: 10.4808\n",
      "Epoch 32/100\n",
      "1/1 [==============================] - 0s 14ms/step - loss: 10.4186 - mae: 10.4186\n",
      "Epoch 33/100\n",
      "1/1 [==============================] - 0s 11ms/step - loss: 10.3560 - mae: 10.3560\n",
      "Epoch 34/100\n",
      "1/1 [==============================] - 0s 10ms/step - loss: 10.2930 - mae: 10.2930\n",
      "Epoch 35/100\n",
      "1/1 [==============================] - 0s 10ms/step - loss: 10.2296 - mae: 10.2296\n",
      "Epoch 36/100\n",
      "1/1 [==============================] - 0s 8ms/step - loss: 10.1655 - mae: 10.1655\n",
      "Epoch 37/100\n",
      "1/1 [==============================] - 0s 9ms/step - loss: 10.1009 - mae: 10.1009\n",
      "Epoch 38/100\n",
      "1/1 [==============================] - 0s 8ms/step - loss: 10.0357 - mae: 10.0357\n",
      "Epoch 39/100\n",
      "1/1 [==============================] - 0s 12ms/step - loss: 9.9699 - mae: 9.9699\n",
      "Epoch 40/100\n",
      "1/1 [==============================] - 0s 11ms/step - loss: 9.9036 - mae: 9.9036\n",
      "Epoch 41/100\n",
      "1/1 [==============================] - 0s 10ms/step - loss: 9.8367 - mae: 9.8367\n",
      "Epoch 42/100\n",
      "1/1 [==============================] - 0s 10ms/step - loss: 9.7693 - mae: 9.7693\n",
      "Epoch 43/100\n",
      "1/1 [==============================] - 0s 8ms/step - loss: 9.7014 - mae: 9.7014\n",
      "Epoch 44/100\n",
      "1/1 [==============================] - 0s 12ms/step - loss: 9.6330 - mae: 9.6330\n",
      "Epoch 45/100\n",
      "1/1 [==============================] - 0s 11ms/step - loss: 9.5641 - mae: 9.5641\n",
      "Epoch 46/100\n",
      "1/1 [==============================] - 0s 11ms/step - loss: 9.4948 - mae: 9.4948\n",
      "Epoch 47/100\n",
      "1/1 [==============================] - 0s 11ms/step - loss: 9.4251 - mae: 9.4251\n",
      "Epoch 48/100\n",
      "1/1 [==============================] - 0s 10ms/step - loss: 9.3548 - mae: 9.3548\n",
      "Epoch 49/100\n",
      "1/1 [==============================] - 0s 13ms/step - loss: 9.2840 - mae: 9.2840\n",
      "Epoch 50/100\n",
      "1/1 [==============================] - 0s 12ms/step - loss: 9.2127 - mae: 9.2127\n",
      "Epoch 51/100\n",
      "1/1 [==============================] - 0s 9ms/step - loss: 9.1408 - mae: 9.1408\n",
      "Epoch 52/100\n",
      "1/1 [==============================] - 0s 12ms/step - loss: 9.0683 - mae: 9.0683\n",
      "Epoch 53/100\n",
      "1/1 [==============================] - 0s 11ms/step - loss: 8.9952 - mae: 8.9952\n",
      "Epoch 54/100\n",
      "1/1 [==============================] - 0s 11ms/step - loss: 8.9216 - mae: 8.9216\n",
      "Epoch 55/100\n",
      "1/1 [==============================] - 0s 10ms/step - loss: 8.8474 - mae: 8.8474\n",
      "Epoch 56/100\n",
      "1/1 [==============================] - 0s 12ms/step - loss: 8.7726 - mae: 8.7726\n",
      "Epoch 57/100\n",
      "1/1 [==============================] - 0s 13ms/step - loss: 8.6973 - mae: 8.6973\n",
      "Epoch 58/100\n",
      "1/1 [==============================] - 0s 12ms/step - loss: 8.6214 - mae: 8.6214\n",
      "Epoch 59/100\n",
      "1/1 [==============================] - 0s 21ms/step - loss: 8.5449 - mae: 8.5449\n",
      "Epoch 60/100\n",
      "1/1 [==============================] - 0s 14ms/step - loss: 8.4677 - mae: 8.4677\n",
      "Epoch 61/100\n",
      "1/1 [==============================] - 0s 11ms/step - loss: 8.3900 - mae: 8.3900\n",
      "Epoch 62/100\n",
      "1/1 [==============================] - 0s 9ms/step - loss: 8.3117 - mae: 8.3117\n",
      "Epoch 63/100\n",
      "1/1 [==============================] - 0s 10ms/step - loss: 8.2329 - mae: 8.2329\n",
      "Epoch 64/100\n",
      "1/1 [==============================] - 0s 10ms/step - loss: 8.1534 - mae: 8.1534\n",
      "Epoch 65/100\n",
      "1/1 [==============================] - 0s 10ms/step - loss: 8.0732 - mae: 8.0732\n",
      "Epoch 66/100\n",
      "1/1 [==============================] - 0s 9ms/step - loss: 7.9925 - mae: 7.9925\n",
      "Epoch 67/100\n",
      "1/1 [==============================] - 0s 12ms/step - loss: 7.9111 - mae: 7.9111\n",
      "Epoch 68/100\n",
      "1/1 [==============================] - 0s 11ms/step - loss: 7.8291 - mae: 7.8291\n",
      "Epoch 69/100\n",
      "1/1 [==============================] - 0s 10ms/step - loss: 7.7464 - mae: 7.7464\n",
      "Epoch 70/100\n",
      "1/1 [==============================] - 0s 12ms/step - loss: 7.6631 - mae: 7.6631\n",
      "Epoch 71/100\n",
      "1/1 [==============================] - 0s 12ms/step - loss: 7.5791 - mae: 7.5791\n",
      "Epoch 72/100\n",
      "1/1 [==============================] - 0s 9ms/step - loss: 7.4944 - mae: 7.4944\n",
      "Epoch 73/100\n",
      "1/1 [==============================] - 0s 8ms/step - loss: 7.4090 - mae: 7.4090\n",
      "Epoch 74/100\n",
      "1/1 [==============================] - 0s 10ms/step - loss: 7.3229 - mae: 7.3229\n",
      "Epoch 75/100\n",
      "1/1 [==============================] - 0s 9ms/step - loss: 7.2362 - mae: 7.2362\n",
      "Epoch 76/100\n",
      "1/1 [==============================] - 0s 13ms/step - loss: 7.1487 - mae: 7.1487\n",
      "Epoch 77/100\n",
      "1/1 [==============================] - 0s 11ms/step - loss: 7.0605 - mae: 7.0605\n",
      "Epoch 78/100\n",
      "1/1 [==============================] - 0s 9ms/step - loss: 6.9716 - mae: 6.9716\n",
      "Epoch 79/100\n",
      "1/1 [==============================] - 0s 11ms/step - loss: 6.8820 - mae: 6.8820\n",
      "Epoch 80/100\n",
      "1/1 [==============================] - 0s 8ms/step - loss: 6.7917 - mae: 6.7917\n",
      "Epoch 81/100\n",
      "1/1 [==============================] - 0s 11ms/step - loss: 6.7007 - mae: 6.7007\n",
      "Epoch 82/100\n",
      "1/1 [==============================] - 0s 10ms/step - loss: 6.6090 - mae: 6.6090\n",
      "Epoch 83/100\n",
      "1/1 [==============================] - 0s 10ms/step - loss: 6.5165 - mae: 6.5165\n",
      "Epoch 84/100\n",
      "1/1 [==============================] - 0s 13ms/step - loss: 6.4232 - mae: 6.4232\n",
      "Epoch 85/100\n",
      "1/1 [==============================] - 0s 12ms/step - loss: 6.3292 - mae: 6.3292\n",
      "Epoch 86/100\n",
      "1/1 [==============================] - 0s 13ms/step - loss: 6.2345 - mae: 6.2345\n",
      "Epoch 87/100\n",
      "1/1 [==============================] - 0s 11ms/step - loss: 6.1390 - mae: 6.1390\n",
      "Epoch 88/100\n",
      "1/1 [==============================] - 0s 9ms/step - loss: 6.0427 - mae: 6.0427\n",
      "Epoch 89/100\n",
      "1/1 [==============================] - 0s 13ms/step - loss: 5.9458 - mae: 5.9458\n",
      "Epoch 90/100\n",
      "1/1 [==============================] - 0s 11ms/step - loss: 5.8481 - mae: 5.8481\n",
      "Epoch 91/100\n",
      "1/1 [==============================] - 0s 13ms/step - loss: 5.7497 - mae: 5.7497\n",
      "Epoch 92/100\n",
      "1/1 [==============================] - 0s 10ms/step - loss: 5.6540 - mae: 5.6540\n",
      "Epoch 93/100\n",
      "1/1 [==============================] - 0s 10ms/step - loss: 5.5550 - mae: 5.5550\n",
      "Epoch 94/100\n",
      "1/1 [==============================] - 0s 13ms/step - loss: 5.4514 - mae: 5.4514\n",
      "Epoch 95/100\n",
      "1/1 [==============================] - 0s 9ms/step - loss: 5.3512 - mae: 5.3512\n",
      "Epoch 96/100\n",
      "1/1 [==============================] - 0s 13ms/step - loss: 5.2501 - mae: 5.2501\n",
      "Epoch 97/100\n",
      "1/1 [==============================] - 0s 10ms/step - loss: 5.1481 - mae: 5.1481\n",
      "Epoch 98/100\n",
      "1/1 [==============================] - 0s 9ms/step - loss: 5.0450 - mae: 5.0450\n",
      "Epoch 99/100\n",
      "1/1 [==============================] - 0s 10ms/step - loss: 4.9411 - mae: 4.9411\n",
      "Epoch 100/100\n",
      "1/1 [==============================] - 0s 9ms/step - loss: 4.8361 - mae: 4.8361\n"
     ]
    },
    {
     "data": {
      "text/plain": [
       "<keras.src.callbacks.History at 0x7f13945e2f80>"
      ]
     },
     "execution_count": 34,
     "metadata": {},
     "output_type": "execute_result"
    }
   ],
   "source": [
    "model = tf.keras.Sequential()\n",
    "model.add(tf.keras.layers.Dense(100,activation='relu'))\n",
    "model.add(tf.keras.layers.Dense(1))\n",
    "\n",
    "model.compile(loss=tf.keras.losses.mae,\n",
    "              optimizer=tf.keras.optimizers.Adam(learning_rate=0.001),\n",
    "              metrics=['mae'])\n",
    "\n",
    "model.fit(tf.expand_dims(X, axis=-1), y, epochs=100)"
   ]
  },
  {
   "cell_type": "code",
   "execution_count": 35,
   "metadata": {},
   "outputs": [
    {
     "name": "stdout",
     "output_type": "stream",
     "text": [
      "1/1 [==============================] - 0s 52ms/step\n"
     ]
    },
    {
     "data": {
      "text/plain": [
       "array([[26.342056]], dtype=float32)"
      ]
     },
     "execution_count": 35,
     "metadata": {},
     "output_type": "execute_result"
    }
   ],
   "source": [
    "model.predict([17.0])"
   ]
  },
  {
   "cell_type": "code",
   "execution_count": 36,
   "metadata": {},
   "outputs": [],
   "source": [
    "X = tf.range(-100,100,4)\n",
    "y = X + 10"
   ]
  },
  {
   "cell_type": "code",
   "execution_count": 37,
   "metadata": {},
   "outputs": [
    {
     "data": {
      "text/plain": [
       "<matplotlib.collections.PathCollection at 0x7f1394626920>"
      ]
     },
     "execution_count": 37,
     "metadata": {},
     "output_type": "execute_result"
    },
    {
     "data": {
      "image/png": "[encoded data removed]",
      "text/plain": [
       "<Figure size 640x480 with 1 Axes>"
      ]
     },
     "metadata": {},
     "output_type": "display_data"
    }
   ],
   "source": [
    "import matplotlib.pyplot as plt\n",
    "plt.scatter(X,y)"
   ]
  },
  {
   "cell_type": "code",
   "execution_count": 39,
   "metadata": {},
   "outputs": [],
   "source": [
    "from sklearn.model_selection import train_test_split\n",
    "\n",
    "X_numpy = X.numpy()\n",
    "y_numpy = y.numpy()\n",
    "X_train, X_test, y_train, y_test = train_test_split(X_numpy,y_numpy, test_size=0.2, random_state=42)\n",
    "\n",
    "X_train = tf.constant(X_train)\n",
    "X_test = tf.constant(X_test)\n",
    "y_train = tf.constant(y_train)\n",
    "y_test = tf.constant(y_test)"
   ]
  },
  {
   "cell_type": "code",
   "execution_count": 41,
   "metadata": {},
   "outputs": [
    {
     "data": {
      "text/plain": [
       "(40, 10)"
      ]
     },
     "execution_count": 41,
     "metadata": {},
     "output_type": "execute_result"
    }
   ],
   "source": [
    "len(X_train), len(X_test)"
   ]
  },
  {
   "cell_type": "code",
   "execution_count": 44,
   "metadata": {},
   "outputs": [
    {
     "data": {
      "image/png": "[encoded data removed]",
      "text/plain": [
       "<Figure size 1000x700 with 1 Axes>"
      ]
     },
     "metadata": {},
     "output_type": "display_data"
    }
   ],
   "source": [
    "plt.figure(figsize=(10,7))\n",
    "plt.scatter(X_train, y_train, c='b',label='Train')\n",
    "plt.scatter(X_test, y_test, c='g',label='Test')\n",
    "plt.legend();"
   ]
  }
 ],
 "metadata": {
  "kernelspec": {
   "display_name": "Python 3 (ipykernel)",
   "language": "python",
   "name": "python3"
  }
 },
 "nbformat": 4,
 "nbformat_minor": 2
}

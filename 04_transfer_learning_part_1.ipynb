{
 "cells": [
  {
   "cell_type": "code",
   "execution_count": 28,
   "metadata": {},
   "outputs": [],
   "source": [
    "import os\n",
    "os.environ['TF_USE_LEGACY_KERAS'] = '1'"
   ]
  },
  {
   "cell_type": "code",
   "execution_count": 4,
   "metadata": {},
   "outputs": [
    {
     "name": "stdout",
     "output_type": "stream",
     "text": [
      "--2024-07-04 04:25:32--  https://storage.googleapis.com/ztm_tf_course/food_vision/10_food_classes_10_percent.zip\n",
      "Resolving storage.googleapis.com (storage.googleapis.com)... 142.250.115.207, 142.250.114.207, 142.251.116.207, ...\n",
      "Connecting to storage.googleapis.com (storage.googleapis.com)|142.250.115.207|:443... connected.\n",
      "HTTP request sent, awaiting response... 200 OK\n",
      "Length: 168546183 (161M) [application/zip]\n",
      "Saving to: ‘10_food_classes_10_percent.zip’\n",
      "\n",
      "10_food_classes_10_ 100%[===================>] 160.74M  20.1MB/s    in 8.0s    \n",
      "\n",
      "2024-07-04 04:25:40 (20.0 MB/s) - ‘10_food_classes_10_percent.zip’ saved [168546183/168546183]\n",
      "\n"
     ]
    }
   ],
   "source": [
    "import zipfile\n",
    "\n",
    "!wget https://storage.googleapis.com/ztm_tf_course/food_vision/10_food_classes_10_percent.zip\n"
   ]
  },
  {
   "cell_type": "code",
   "execution_count": 5,
   "metadata": {},
   "outputs": [],
   "source": [
    "zip_ref = zipfile.ZipFile('10_food_classes_10_percent.zip')\n",
    "zip_ref.extractall()\n",
    "zip_ref.close()"
   ]
  },
  {
   "cell_type": "code",
   "execution_count": 3,
   "metadata": {},
   "outputs": [
    {
     "name": "stdout",
     "output_type": "stream",
     "text": [
      "There are 2 directories and 0 images in \"10_food_classes_10_percent\".\n",
      "There are 10 directories and 0 images in \"10_food_classes_10_percent/test\".\n",
      "There are 0 directories and 250 images in \"10_food_classes_10_percent/test/chicken_curry\".\n",
      "There are 0 directories and 250 images in \"10_food_classes_10_percent/test/chicken_wings\".\n",
      "There are 0 directories and 250 images in \"10_food_classes_10_percent/test/fried_rice\".\n",
      "There are 0 directories and 250 images in \"10_food_classes_10_percent/test/grilled_salmon\".\n",
      "There are 0 directories and 250 images in \"10_food_classes_10_percent/test/hamburger\".\n",
      "There are 0 directories and 250 images in \"10_food_classes_10_percent/test/ice_cream\".\n",
      "There are 0 directories and 250 images in \"10_food_classes_10_percent/test/pizza\".\n",
      "There are 0 directories and 250 images in \"10_food_classes_10_percent/test/ramen\".\n",
      "There are 0 directories and 250 images in \"10_food_classes_10_percent/test/steak\".\n",
      "There are 0 directories and 250 images in \"10_food_classes_10_percent/test/sushi\".\n",
      "There are 10 directories and 0 images in \"10_food_classes_10_percent/train\".\n",
      "There are 0 directories and 75 images in \"10_food_classes_10_percent/train/chicken_curry\".\n",
      "There are 0 directories and 75 images in \"10_food_classes_10_percent/train/chicken_wings\".\n",
      "There are 0 directories and 75 images in \"10_food_classes_10_percent/train/fried_rice\".\n",
      "There are 0 directories and 75 images in \"10_food_classes_10_percent/train/grilled_salmon\".\n",
      "There are 0 directories and 75 images in \"10_food_classes_10_percent/train/hamburger\".\n",
      "There are 0 directories and 75 images in \"10_food_classes_10_percent/train/ice_cream\".\n",
      "There are 0 directories and 75 images in \"10_food_classes_10_percent/train/pizza\".\n",
      "There are 0 directories and 75 images in \"10_food_classes_10_percent/train/ramen\".\n",
      "There are 0 directories and 75 images in \"10_food_classes_10_percent/train/steak\".\n",
      "There are 0 directories and 75 images in \"10_food_classes_10_percent/train/sushi\".\n",
      "['chicken_curry' 'chicken_wings' 'fried_rice' 'grilled_salmon' 'hamburger'\n",
      " 'ice_cream' 'pizza' 'ramen' 'steak' 'sushi']\n"
     ]
    }
   ],
   "source": [
    "import os\n",
    "import pathlib\n",
    "import numpy as np\n",
    "\n",
    "for dirpath, dirnames, filenames in os.walk('10_food_classes_10_percent'):\n",
    "    print(f'There are {len(dirnames)} directories and {len(filenames)} images in \"{dirpath}\".')\n",
    "\n",
    "data_dir = pathlib.Path('10_food_classes_10_percent/train')\n",
    "class_names = np.array(sorted([item.name for item in data_dir.glob('*')]))\n",
    "\n",
    "print(class_names)"
   ]
  },
  {
   "cell_type": "code",
   "execution_count": 4,
   "metadata": {},
   "outputs": [
    {
     "name": "stdout",
     "output_type": "stream",
     "text": [
      "Found 750 images belonging to 10 classes.\n",
      "Found 2500 images belonging to 10 classes.\n"
     ]
    }
   ],
   "source": [
    "from tensorflow.keras.preprocessing.image import ImageDataGenerator\n",
    "\n",
    "IMAGE_SHAPE = (224, 244)\n",
    "BATCH_SIZE = 32\n",
    "EPOCHS = 5\n",
    "\n",
    "train_dir = '10_food_classes_10_percent/train/'\n",
    "test_dir = '10_food_classes_10_percent/test/'\n",
    "\n",
    "train_datagen = ImageDataGenerator(rescale=1/255.)\n",
    "test_datagen = ImageDataGenerator(rescale=1/255.)\n",
    "\n",
    "train_data = train_datagen.flow_from_directory(train_dir,\n",
    "                                               target_size=IMAGE_SHAPE,\n",
    "                                               batch_size=BATCH_SIZE,\n",
    "                                               class_mode='categorical')\n",
    "\n",
    "test_data = test_datagen.flow_from_directory(test_dir,\n",
    "                                             target_size=IMAGE_SHAPE,\n",
    "                                             batch_size=BATCH_SIZE,\n",
    "                                             class_mode='categorical')"
   ]
  },
  {
   "cell_type": "markdown",
   "metadata": {},
   "source": [
    "## TensorBoard Callbacks"
   ]
  },
  {
   "cell_type": "code",
   "execution_count": 5,
   "metadata": {},
   "outputs": [],
   "source": [
    "import datetime\n",
    "import tensorflow as tf\n",
    "\n",
    "def create_tensorboard_callback(dir_name, experiment_name):\n",
    "    log_dir = dir_name + '/' + experiment_name + '/' + datetime.datetime.now().strftime('%Y%m%d-%H%M%S')\n",
    "    tensorboard_callback = tf.keras.callbacks.TensorBoard(log_dir=log_dir)\n",
    "    print(f'Saving TensorBoard log files to: {log_dir}')\n",
    "    return tensorboard_callback"
   ]
  },
  {
   "cell_type": "markdown",
   "metadata": {},
   "source": [
    "## TensorFlow Hub"
   ]
  },
  {
   "cell_type": "code",
   "execution_count": 6,
   "metadata": {},
   "outputs": [],
   "source": [
    "import tensorflow_hub as hub\n",
    "\n",
    "\n",
    "def create_model(model_url, num_classes=10):\n",
    "    feature_extractor_layer = hub.KerasLayer(model_url,\n",
    "                                             trainable=False,\n",
    "                                             name='feature_extraction_layer',\n",
    "                                             input_shape=IMAGE_SHAPE+(3,))\n",
    "    model = tf.keras.Sequential([\n",
    "        feature_extractor_layer,\n",
    "        tf.keras.layers.Dense(num_classes, activation='softmax', name='output_layer')\n",
    "    ])\n",
    "    return model"
   ]
  },
  {
   "cell_type": "code",
   "execution_count": 9,
   "metadata": {},
   "outputs": [
    {
     "name": "stdout",
     "output_type": "stream",
     "text": [
      "Saving TensorBoard log files to: tensorflow_hub/efficient_netb0/20240707-040429\n",
      "Epoch 1/5\n"
     ]
    },
    {
     "name": "stderr",
     "output_type": "stream",
     "text": [
      "2024-07-07 04:04:36.502335: I external/local_xla/xla/stream_executor/cuda/cuda_dnn.cc:454] Loaded cuDNN version 8906\n",
      "2024-07-07 04:04:37.341119: I external/local_xla/xla/service/service.cc:168] XLA service 0x7f60d8b770d0 initialized for platform CUDA (this does not guarantee that XLA will be used). Devices:\n",
      "2024-07-07 04:04:37.341154: I external/local_xla/xla/service/service.cc:176]   StreamExecutor device (0): NVIDIA GeForce RTX 3090, Compute Capability 8.6\n",
      "2024-07-07 04:04:37.345968: I tensorflow/compiler/mlir/tensorflow/utils/dump_mlir_util.cc:269] disabling MLIR crash reproducer, set env var `MLIR_CRASH_REPRODUCER_DIRECTORY` to enable.\n",
      "WARNING: All log messages before absl::InitializeLog() is called are written to STDERR\n",
      "I0000 00:00:1720325077.419003     737 device_compiler.h:186] Compiled cluster using XLA!  This line is logged at most once for the lifetime of the process.\n"
     ]
    },
    {
     "name": "stdout",
     "output_type": "stream",
     "text": [
      "24/24 [==============================] - 35s 1s/step - loss: 1.7893 - accuracy: 0.4707 - val_loss: 1.2804 - val_accuracy: 0.7468\n",
      "Epoch 2/5\n",
      "24/24 [==============================] - 13s 572ms/step - loss: 1.0359 - accuracy: 0.8160 - val_loss: 0.8535 - val_accuracy: 0.8240\n",
      "Epoch 3/5\n",
      "24/24 [==============================] - 13s 546ms/step - loss: 0.7409 - accuracy: 0.8533 - val_loss: 0.6858 - val_accuracy: 0.8440\n",
      "Epoch 4/5\n",
      "24/24 [==============================] - 13s 575ms/step - loss: 0.5967 - accuracy: 0.8747 - val_loss: 0.6009 - val_accuracy: 0.8544\n",
      "Epoch 5/5\n",
      "24/24 [==============================] - 13s 578ms/step - loss: 0.5081 - accuracy: 0.8960 - val_loss: 0.5522 - val_accuracy: 0.8656\n"
     ]
    }
   ],
   "source": [
    "efficientnet_url = \"https://www.kaggle.com/models/tensorflow/efficientnet/TensorFlow2/b0-feature-vector/1\"\n",
    "\n",
    "efficientnet_model = create_model(efficientnet_url,\n",
    "                                num_classes=train_data.num_classes)\n",
    "\n",
    "efficientnet_model.compile(loss='categorical_crossentropy',\n",
    "                           optimizer=tf.keras.optimizers.Adam(),\n",
    "                           metrics=['accuracy'])\n",
    "\n",
    "EPOCHS = 5\n",
    "\n",
    "efficientnet_history = efficientnet_model.fit(train_data,\n",
    "                                              epochs=EPOCHS,\n",
    "                                              steps_per_epoch=len(train_data),\n",
    "                                              validation_data=test_data,\n",
    "                                              validation_steps=len(test_data),\n",
    "                                              callbacks=[create_tensorboard_callback(dir_name='tensorflow_hub',\n",
    "                                                                                     experiment_name='efficient_netb0')])\n"
   ]
  },
  {
   "cell_type": "code",
   "execution_count": 10,
   "metadata": {},
   "outputs": [
    {
     "name": "stdout",
     "output_type": "stream",
     "text": [
      "Model: \"sequential_2\"\n",
      "_________________________________________________________________\n",
      " Layer (type)                Output Shape              Param #   \n",
      "=================================================================\n",
      " feature_extraction_layer (  (None, 1280)              4049564   \n",
      " KerasLayer)                                                     \n",
      "                                                                 \n",
      " output_layer (Dense)        (None, 10)                12810     \n",
      "                                                                 \n",
      "=================================================================\n",
      "Total params: 4062374 (15.50 MB)\n",
      "Trainable params: 12810 (50.04 KB)\n",
      "Non-trainable params: 4049564 (15.45 MB)\n",
      "_________________________________________________________________\n"
     ]
    }
   ],
   "source": [
    "efficientnet_model.summary()"
   ]
  },
  {
   "cell_type": "code",
   "execution_count": 11,
   "metadata": {},
   "outputs": [
    {
     "data": {
      "text/plain": [
       "<Axes: >"
      ]
     },
     "execution_count": 11,
     "metadata": {},
     "output_type": "execute_result"
    },
    {
     "data": {
      "image/png": "[encoded data removed]",
      "text/plain": [
       "<Figure size 1000x700 with 1 Axes>"
      ]
     },
     "metadata": {},
     "output_type": "display_data"
    }
   ],
   "source": [
    "import pandas as pd\n",
    "\n",
    "pd.DataFrame(efficientnet_history.history).plot(figsize=(10,7))"
   ]
  }
 ],
 "metadata": {
  "kernelspec": {
   "display_name": "Python 3 (ipykernel)",
   "language": "python",
   "name": "python3"
  },
  "language_info": {
   "codemirror_mode": {
    "name": "ipython",
    "version": 3
   },
   "file_extension": ".py",
   "mimetype": "text/x-python",
   "name": "python",
   "nbconvert_exporter": "python",
   "pygments_lexer": "ipython3",
   "version": "3.11.0"
  }
 },
 "nbformat": 4,
 "nbformat_minor": 2
}
